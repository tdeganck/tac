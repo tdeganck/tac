{
 "cells": [
  {
   "cell_type": "markdown",
   "metadata": {},
   "source": [
    "# Scraping: récupération de la page d'accueil du journal Le Soir\n",
    "\n",
    "Dans ce notebook, nous créons un robot qui va ouvrir la page d'accueil du site du journal [Le Soir](https://www.lesoir.be/) et récupérer le titre de tous les articles du jour et les stocker dans un fichier csv."
   ]
  },
  {
   "cell_type": "markdown",
   "metadata": {},
   "source": [
    "## Imports"
   ]
  },
  {
   "cell_type": "code",
   "execution_count": 3,
   "metadata": {},
   "outputs": [],
   "source": [
    "import os\n",
    "import re\n",
    "import time\n",
    "import requests\n",
    "from bs4 import BeautifulSoup\n",
    "import pandas as pd"
   ]
  },
  {
   "cell_type": "markdown",
   "metadata": {},
   "source": [
    "## Récupération de tous les articles de la page d'accueil\n",
    "\n"
   ]
  },
  {
   "cell_type": "code",
   "execution_count": 4,
   "metadata": {},
   "outputs": [],
   "source": [
    "headers = {'User-Agent': 'Mozilla/5.0 (Macintosh; Intel Mac OS X 10_10_1) AppleWebKit/537.36 (KHTML, like Gecko) Chrome/39.0.2171.95 Safari/537.36'}\n",
    "\n",
    "articles = []\n",
    "\n",
    "root_url = f\"https://www.rtbf.be\"\n",
    "response = requests.get(root_url, headers=headers)\n",
    "soup = BeautifulSoup(response.text, 'html.parser')\n",
    "for link in soup.find_all(\"a\", {\"class\":\"stretched-link outline-none\"}):\n",
    "    title = link.text.strip()\n",
    "    url = root_url + link.get('href')\n",
    "    articles.append([url, title])"
   ]
  },
  {
   "cell_type": "code",
   "execution_count": 5,
   "metadata": {},
   "outputs": [
    {
     "data": {
      "text/plain": [
       "83"
      ]
     },
     "execution_count": 5,
     "metadata": {},
     "output_type": "execute_result"
    }
   ],
   "source": [
    "# Affichage du nombre d'articles récupérés\n",
    "len(articles)"
   ]
  },
  {
   "cell_type": "code",
   "execution_count": 6,
   "metadata": {},
   "outputs": [
    {
     "data": {
      "text/plain": [
       "[['https://www.rtbf.be/elections-2024/communales/resultats/moorslede-8890',\n",
       "  'Moorslede'],\n",
       " ['https://www.rtbf.be/elections-2024/communales/resultats/beersel-1650',\n",
       "  'Beersel'],\n",
       " ['https://www.rtbf.be/elections-2024/communales/resultats/gand-9000', 'Gand'],\n",
       " ['https://www.rtbf.be/article/direct-elections-communales-et-provinciales-suivez-minute-par-minute-les-elections-de-ce-dimanche-13-octobre-11447930',\n",
       "  'Direct – Élections communales et provinciales\\xa0: le PS reste en tête à Mons, Charleroi, Liège et Bruxelles, le dépouillement continue'],\n",
       " ['https://www.rtbf.be/article/bart-de-wever-grand-vainqueur-a-anvers-rome-a-gagne-11448422',\n",
       "  'Bart De Wever, grand vainqueur à Anvers\\xa0: \"Rome a gagné\\xa0!\"'],\n",
       " ['https://www.rtbf.be/article/elections-communales-a-chievres-ecolo-paie-le-prix-de-la-crise-des-pfas-11448404',\n",
       "  'Elections communales à Chièvres\\xa0: Ecolo paie le prix de la crise des PFAS'],\n",
       " ['https://www.rtbf.be/article/resultats-des-elections-analyses-projections-interviews-en-plateau-et-sur-le-terrain-suivez-notre-edition-speciale-sur-la-une-et-auvio-11448050',\n",
       "  'Résultats des élections, analyses, projections, interviews en plateau et sur le terrain : suivez notre édition spéciale sur la Une et Auvio'],\n",
       " ['https://www.rtbf.be/article/elections-provinciales-a-liege-les-engages-et-le-mr-gagnent-du-terrain-le-ps-se-maintient-11448143',\n",
       "  'Élections provinciales à Liège\\xa0: Les Engagés et le MR gagnent du terrain, le PS se maintient, Ecolo en recul'],\n",
       " ['https://www.rtbf.be/article/l-open-vld-perd-ostende-et-degringole-en-flandre-orientale-la-defaite-de-juin-se-poursuit-11448233',\n",
       "  \"L'Open VLD perd Ostende et dégringole en Flandre orientale\\xa0: la défaite de juin se poursuit...\"],\n",
       " ['https://www.rtbf.be/article/la-team-fouad-ahidar-en-region-bruxelloise-pari-reussi-une-analyse-du-crisp-11448486',\n",
       "  'La Team Fouad Ahidar en Région bruxelloise\\xa0: pari réussi\\xa0? Une analyse du CRISP']]"
      ]
     },
     "execution_count": 6,
     "metadata": {},
     "output_type": "execute_result"
    }
   ],
   "source": [
    "# Affichage des 10 premières entrées\n",
    "articles[:10]"
   ]
  },
  {
   "cell_type": "markdown",
   "metadata": {},
   "source": [
    "## Création d'un dataframe avec les liens et les titres des articles\n"
   ]
  },
  {
   "cell_type": "code",
   "execution_count": 7,
   "metadata": {},
   "outputs": [
    {
     "data": {
      "text/html": [
       "<div>\n",
       "<style scoped>\n",
       "    .dataframe tbody tr th:only-of-type {\n",
       "        vertical-align: middle;\n",
       "    }\n",
       "\n",
       "    .dataframe tbody tr th {\n",
       "        vertical-align: top;\n",
       "    }\n",
       "\n",
       "    .dataframe thead th {\n",
       "        text-align: right;\n",
       "    }\n",
       "</style>\n",
       "<table border=\"1\" class=\"dataframe\">\n",
       "  <thead>\n",
       "    <tr style=\"text-align: right;\">\n",
       "      <th></th>\n",
       "      <th>link</th>\n",
       "      <th>title</th>\n",
       "    </tr>\n",
       "  </thead>\n",
       "  <tbody>\n",
       "    <tr>\n",
       "      <th>0</th>\n",
       "      <td>https://www.rtbf.be/elections-2024/communales/...</td>\n",
       "      <td>Moorslede</td>\n",
       "    </tr>\n",
       "    <tr>\n",
       "      <th>1</th>\n",
       "      <td>https://www.rtbf.be/elections-2024/communales/...</td>\n",
       "      <td>Beersel</td>\n",
       "    </tr>\n",
       "    <tr>\n",
       "      <th>2</th>\n",
       "      <td>https://www.rtbf.be/elections-2024/communales/...</td>\n",
       "      <td>Gand</td>\n",
       "    </tr>\n",
       "    <tr>\n",
       "      <th>3</th>\n",
       "      <td>https://www.rtbf.be/article/direct-elections-c...</td>\n",
       "      <td>Direct – Élections communales et provinciales ...</td>\n",
       "    </tr>\n",
       "    <tr>\n",
       "      <th>4</th>\n",
       "      <td>https://www.rtbf.be/article/bart-de-wever-gran...</td>\n",
       "      <td>Bart De Wever, grand vainqueur à Anvers : \"Rom...</td>\n",
       "    </tr>\n",
       "    <tr>\n",
       "      <th>...</th>\n",
       "      <td>...</td>\n",
       "      <td>...</td>\n",
       "    </tr>\n",
       "    <tr>\n",
       "      <th>78</th>\n",
       "      <td>https://www.rtbf.behttps://auvio.rtbf.be/media...</td>\n",
       "      <td>Météo 13h30</td>\n",
       "    </tr>\n",
       "    <tr>\n",
       "      <th>79</th>\n",
       "      <td>https://www.rtbf.behttps://auvio.rtbf.be/media...</td>\n",
       "      <td>JT 13h</td>\n",
       "    </tr>\n",
       "    <tr>\n",
       "      <th>80</th>\n",
       "      <td>https://www.rtbf.behttps://auvio.rtbf.be/media...</td>\n",
       "      <td>Cultes et relais</td>\n",
       "    </tr>\n",
       "    <tr>\n",
       "      <th>81</th>\n",
       "      <td>https://www.rtbf.behttps://auvio.rtbf.be/media...</td>\n",
       "      <td>Un si grand soleil</td>\n",
       "    </tr>\n",
       "    <tr>\n",
       "      <th>82</th>\n",
       "      <td>https://www.rtbf.behttps://auvio.rtbf.be/media...</td>\n",
       "      <td>Une brique dans le ventre</td>\n",
       "    </tr>\n",
       "  </tbody>\n",
       "</table>\n",
       "<p>83 rows × 2 columns</p>\n",
       "</div>"
      ],
      "text/plain": [
       "                                                 link  \\\n",
       "0   https://www.rtbf.be/elections-2024/communales/...   \n",
       "1   https://www.rtbf.be/elections-2024/communales/...   \n",
       "2   https://www.rtbf.be/elections-2024/communales/...   \n",
       "3   https://www.rtbf.be/article/direct-elections-c...   \n",
       "4   https://www.rtbf.be/article/bart-de-wever-gran...   \n",
       "..                                                ...   \n",
       "78  https://www.rtbf.behttps://auvio.rtbf.be/media...   \n",
       "79  https://www.rtbf.behttps://auvio.rtbf.be/media...   \n",
       "80  https://www.rtbf.behttps://auvio.rtbf.be/media...   \n",
       "81  https://www.rtbf.behttps://auvio.rtbf.be/media...   \n",
       "82  https://www.rtbf.behttps://auvio.rtbf.be/media...   \n",
       "\n",
       "                                                title  \n",
       "0                                           Moorslede  \n",
       "1                                             Beersel  \n",
       "2                                                Gand  \n",
       "3   Direct – Élections communales et provinciales ...  \n",
       "4   Bart De Wever, grand vainqueur à Anvers : \"Rom...  \n",
       "..                                                ...  \n",
       "78                                        Météo 13h30  \n",
       "79                                             JT 13h  \n",
       "80                                   Cultes et relais  \n",
       "81                                 Un si grand soleil  \n",
       "82                          Une brique dans le ventre  \n",
       "\n",
       "[83 rows x 2 columns]"
      ]
     },
     "execution_count": 7,
     "metadata": {},
     "output_type": "execute_result"
    }
   ],
   "source": [
    "df = pd.DataFrame(articles, columns=['link', 'title'])\n",
    "df"
   ]
  },
  {
   "cell_type": "code",
   "execution_count": 8,
   "metadata": {},
   "outputs": [],
   "source": [
    "# Sauvegarde du dataframe dans un fichier csv\n",
    "df.to_csv(f\"../data/rtbf_{time.strftime('%Y%m%d')}.csv\", index=False)"
   ]
  },
  {
   "cell_type": "markdown",
   "metadata": {},
   "source": [
    "## Téléchargement d'un article et affichage du texte"
   ]
  },
  {
   "cell_type": "code",
   "execution_count": 9,
   "metadata": {},
   "outputs": [
    {
     "name": "stderr",
     "output_type": "stream",
     "text": [
      "C:\\Users\\tdeganck\\AppData\\Local\\Temp\\ipykernel_30196\\3125040403.py:2: FutureWarning: Series.__getitem__ treating keys as positions is deprecated. In a future version, integer keys will always be treated as labels (consistent with DataFrame behavior). To access a value by position, use `ser.iloc[pos]`\n",
      "  article_url = df.iloc[0][0]\n"
     ]
    },
    {
     "name": "stdout",
     "output_type": "stream",
     "text": [
      "Résultats élections communales 2024 Moorslede - 8890\n",
      "==================================\n",
      "Copyright ©  2024  RTBF\n"
     ]
    }
   ],
   "source": [
    "# Récupération du premier lien du dataframe\n",
    "article_url = df.iloc[0][0]\n",
    "\n",
    "# Ouverture de la page\n",
    "response = requests.get(article_url, headers=headers)\n",
    "soup = BeautifulSoup(response.content, 'html.parser')\n",
    "# Parsing du contenu\n",
    "title = soup.find(\"h1\").get_text(separator=' ')\n",
    "\n",
    "paragraphs = []\n",
    "for paragraph in soup.find_all(\"p\", attrs={\"class\": None}):\n",
    "    paragraphs.append(paragraph.get_text(separator=' ').strip())\n",
    "\n",
    "content = \"\\n\".join(paragraphs)\n",
    "print(title)\n",
    "print(\"==================================\")\n",
    "print(content)"
   ]
  },
  {
   "cell_type": "markdown",
   "metadata": {},
   "source": [
    "### Nettoyage du texte à l'aide d'expressions régulières"
   ]
  },
  {
   "cell_type": "code",
   "execution_count": 10,
   "metadata": {},
   "outputs": [
    {
     "name": "stdout",
     "output_type": "stream",
     "text": [
      "Copyright ©  2024  RTBF\n",
      "==================================\n",
      "Copyright © 2024 RTBF\n"
     ]
    }
   ],
   "source": [
    "# Suppression de tout ce qui se trouve entre parenthèses\n",
    "clean_content = re.sub(\"\\([^\\)]+\\)\", \" \", content)\n",
    "# Suppression des espaces multiples\n",
    "clean_content = re.sub(\"\\s+\", \" \", clean_content)\n",
    "\n",
    "print(content)\n",
    "print(\"==================================\")\n",
    "print(clean_content)\n"
   ]
  },
  {
   "cell_type": "markdown",
   "metadata": {},
   "source": [
    "### Création d'un fichier avec le contenu de l'article\n"
   ]
  },
  {
   "cell_type": "code",
   "execution_count": null,
   "metadata": {},
   "outputs": [],
   "source": [
    "with open(\"../data/rtbf_example.txt\", \"w\") as writer:\n",
    "    writer.write(f\"{title}\\n\\n{clean_content}\")"
   ]
  },
  {
   "cell_type": "markdown",
   "metadata": {},
   "source": [
    "## Pour en savoir plus"
   ]
  },
  {
   "cell_type": "markdown",
   "metadata": {},
   "source": [
    "- Le web scraping avec Python: https://realpython.com/beautiful-soup-web-scraper-python/\n",
    "- Tutoriel sur les expressions régulières: https://www.w3schools.com/python/python_regex.asp"
   ]
  }
 ],
 "metadata": {
  "kernelspec": {
   "display_name": "Python 3.10.5 ('tac_venv': venv)",
   "language": "python",
   "name": "python3"
  },
  "language_info": {
   "codemirror_mode": {
    "name": "ipython",
    "version": 3
   },
   "file_extension": ".py",
   "mimetype": "text/x-python",
   "name": "python",
   "nbconvert_exporter": "python",
   "pygments_lexer": "ipython3",
   "version": "3.11.9"
  },
  "vscode": {
   "interpreter": {
    "hash": "b1932ab1d169b4769d1550e799423b6477588e745f266d79d9004c136c81607e"
   }
  }
 },
 "nbformat": 4,
 "nbformat_minor": 4
}
