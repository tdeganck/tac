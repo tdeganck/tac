{
 "cells": [
  {
   "cell_type": "markdown",
   "metadata": {},
   "source": [
    "# Reconnaissance d'entités nommées avec SpaCy"
   ]
  },
  {
   "cell_type": "markdown",
   "metadata": {},
   "source": [
    "La documentation est accessible ici: https://spacy.io/api"
   ]
  },
  {
   "cell_type": "markdown",
   "metadata": {},
   "source": [
    "## Imports"
   ]
  },
  {
   "cell_type": "code",
   "execution_count": 22,
   "metadata": {},
   "outputs": [
    {
     "name": "stdout",
     "output_type": "stream",
     "text": [
      "Collecting fr-core-news-md==3.8.0\n",
      "  Downloading https://github.com/explosion/spacy-models/releases/download/fr_core_news_md-3.8.0/fr_core_news_md-3.8.0-py3-none-any.whl (45.8 MB)\n",
      "     ---------------------------------------- 0.0/45.8 MB ? eta -:--:--\n",
      "     -- ------------------------------------- 2.9/45.8 MB 16.7 MB/s eta 0:00:03\n",
      "     ----- ---------------------------------- 6.0/45.8 MB 16.0 MB/s eta 0:00:03\n",
      "     -------- ------------------------------- 9.4/45.8 MB 16.3 MB/s eta 0:00:03\n",
      "     ---------- ---------------------------- 12.6/45.8 MB 16.1 MB/s eta 0:00:03\n",
      "     ------------ -------------------------- 14.4/45.8 MB 14.4 MB/s eta 0:00:03\n",
      "     -------------- ------------------------ 17.3/45.8 MB 14.2 MB/s eta 0:00:03\n",
      "     ----------------- --------------------- 20.7/45.8 MB 14.4 MB/s eta 0:00:02\n",
      "     -------------------- ------------------ 24.4/45.8 MB 14.7 MB/s eta 0:00:02\n",
      "     ----------------------- --------------- 28.0/45.8 MB 14.9 MB/s eta 0:00:02\n",
      "     -------------------------- ------------ 31.5/45.8 MB 15.1 MB/s eta 0:00:01\n",
      "     ---------------------------- ---------- 33.6/45.8 MB 14.8 MB/s eta 0:00:01\n",
      "     ------------------------------- ------- 36.7/45.8 MB 14.9 MB/s eta 0:00:01\n",
      "     ---------------------------------- ---- 40.4/45.8 MB 15.0 MB/s eta 0:00:01\n",
      "     ------------------------------------- - 44.0/45.8 MB 15.2 MB/s eta 0:00:01\n",
      "     --------------------------------------- 45.8/45.8 MB 14.9 MB/s eta 0:00:00\n",
      "\u001b[38;5;2m✔ Download and installation successful\u001b[0m\n",
      "You can now load the package via spacy.load('fr_core_news_md')\n"
     ]
    },
    {
     "name": "stderr",
     "output_type": "stream",
     "text": [
      "\n",
      "[notice] A new release of pip is available: 24.2 -> 24.3.1\n",
      "[notice] To update, run: python.exe -m pip install --upgrade pip\n"
     ]
    }
   ],
   "source": [
    "from collections import defaultdict\n",
    "import spacy\n",
    "from spacy.lang.fr.examples import sentences\n",
    "!python -m spacy download fr_core_news_md"
   ]
  },
  {
   "cell_type": "code",
   "execution_count": 23,
   "metadata": {},
   "outputs": [],
   "source": [
    "nlp = spacy.load('fr_core_news_md')"
   ]
  },
  {
   "cell_type": "markdown",
   "metadata": {},
   "source": [
    "## Appliquer la reconnaissance d'entités nommées sur notre corpus"
   ]
  },
  {
   "cell_type": "code",
   "execution_count": 36,
   "metadata": {},
   "outputs": [],
   "source": [
    "# Charger le texte\n",
    "n=1000000\n",
    "text = open(\"../../data/tmp/1906_clean.txt\", encoding='utf-8').read()[:n]"
   ]
  },
  {
   "cell_type": "code",
   "execution_count": 37,
   "metadata": {},
   "outputs": [
    {
     "name": "stdout",
     "output_type": "stream",
     "text": [
      "CPU times: total: 12.8 s\n",
      "Wall time: 15.7 s\n"
     ]
    }
   ],
   "source": [
    "%%time\n",
    "# Traiter le texte\n",
    "\n",
    "doc = nlp(text)"
   ]
  },
  {
   "cell_type": "code",
   "execution_count": 30,
   "metadata": {},
   "outputs": [],
   "source": [
    "# Compter les entités\n",
    "people = defaultdict(int)\n",
    "for ent in doc.ents:\n",
    "    if ent.label_ == \"PER\" and len(ent.text) > 3:\n",
    "        people[ent.text] += 1"
   ]
  },
  {
   "cell_type": "markdown",
   "metadata": {},
   "source": [
    "Boucle pour le traitement successif des portions de texte"
   ]
  },
  {
   "cell_type": "code",
   "execution_count": 39,
   "metadata": {},
   "outputs": [
    {
     "name": "stdout",
     "output_type": "stream",
     "text": [
      "Traitement du segment 1/10...\n",
      "Résultats intermédiaires après le segment 1:\n",
      "HECTOR DENIS: 2\n",
      "JJOSTE ÉTAUX: 1\n",
      "TOURNIS: 1\n",
      "HONNEURS: 1\n",
      "REGARDAIT COIFFET: 1\n",
      "FAUDRA: 1\n",
      "MÉCHA: 1\n",
      "SOMBRES: 1\n",
      "AÇORES BISE: 1\n",
      "NOËL ALITA: 1\n",
      "Traitement du segment 2/10...\n",
      "Résultats intermédiaires après le segment 2:\n",
      "CIBILS: 3\n",
      "HECTOR DENIS: 2\n",
      "JJOSTE ÉTAUX: 1\n",
      "TOURNIS: 1\n",
      "HONNEURS: 1\n",
      "REGARDAIT COIFFET: 1\n",
      "FAUDRA: 1\n",
      "MÉCHA: 1\n",
      "SOMBRES: 1\n",
      "AÇORES BISE: 1\n",
      "Traitement du segment 3/10...\n",
      "Résultats intermédiaires après le segment 3:\n",
      "CIBILS: 3\n",
      "HECTOR DENIS: 2\n",
      "HERRY: 2\n",
      "BONNO: 2\n",
      "JJOSTE ÉTAUX: 1\n",
      "TOURNIS: 1\n",
      "HONNEURS: 1\n",
      "REGARDAIT COIFFET: 1\n",
      "FAUDRA: 1\n",
      "MÉCHA: 1\n",
      "Traitement du segment 4/10...\n",
      "Résultats intermédiaires après le segment 4:\n",
      "CIBILS: 3\n",
      "DUDIT: 3\n",
      "HECTOR DENIS: 2\n",
      "HERRY: 2\n",
      "BONNO: 2\n",
      "JJOSTE ÉTAUX: 1\n",
      "TOURNIS: 1\n",
      "HONNEURS: 1\n",
      "REGARDAIT COIFFET: 1\n",
      "FAUDRA: 1\n",
      "Traitement du segment 5/10...\n",
      "Résultats intermédiaires après le segment 5:\n",
      "CIBILS: 3\n",
      "DUDIT: 3\n",
      "HECTOR DENIS: 2\n",
      "HERRY: 2\n",
      "BONNO: 2\n",
      "LOCAT: 2\n",
      "LOUIS BOIS DORÉ: 2\n",
      "ALLA: 2\n",
      "HEURS: 2\n",
      "BELGIKA: 2\n",
      "Traitement du segment 6/10...\n",
      "Résultats intermédiaires après le segment 6:\n",
      "CIBILS: 3\n",
      "DUDIT: 3\n",
      "HECTOR DENIS: 2\n",
      "HERRY: 2\n",
      "BONNO: 2\n",
      "LOCAT: 2\n",
      "LOUIS BOIS DORÉ: 2\n",
      "ALLA: 2\n",
      "HEURS: 2\n",
      "BELGIKA: 2\n",
      "Traitement du segment 7/10...\n",
      "Résultats intermédiaires après le segment 7:\n",
      "CIBILS: 3\n",
      "DUDIT: 3\n",
      "HECTOR DENIS: 2\n",
      "HERRY: 2\n",
      "BONNO: 2\n",
      "BRAVES: 2\n",
      "LOCAT: 2\n",
      "LOUIS BOIS DORÉ: 2\n",
      "ALLA: 2\n",
      "HEURS: 2\n",
      "Traitement du segment 8/10...\n",
      "Résultats intermédiaires après le segment 8:\n",
      "LOCAT: 5\n",
      "DUDIT: 5\n",
      "CIBILS: 3\n",
      "HECTOR DENIS: 2\n",
      "HERRY: 2\n",
      "BONNO: 2\n",
      "BRAVES: 2\n",
      "LOUIS BOIS DORÉ: 2\n",
      "ALLA: 2\n",
      "HEURS: 2\n",
      "Traitement du segment 9/10...\n",
      "Résultats intermédiaires après le segment 9:\n",
      "LOCAT: 5\n",
      "DUDIT: 5\n",
      "CIBILS: 3\n",
      "VLEURGAT: 3\n",
      "HECTOR DENIS: 2\n",
      "HERRY: 2\n",
      "BONNO: 2\n",
      "BRAVES: 2\n",
      "LOUIS BOIS DORÉ: 2\n",
      "FIAI: 2\n",
      "Traitement du segment 10/10...\n",
      "Résultats intermédiaires après le segment 10:\n",
      "LOCAT: 5\n",
      "DUDIT: 5\n",
      "CIBILS: 3\n",
      "VLEURGAT: 3\n",
      "REMBOURSABLE: 3\n",
      "HECTOR DENIS: 2\n",
      "HERRY: 2\n",
      "BONNO: 2\n",
      "BRAVES: 2\n",
      "LOUIS BOIS DORÉ: 2\n",
      "\n",
      "Résultats finaux :\n",
      "LOCAT: 5\n",
      "DUDIT: 5\n",
      "CIBILS: 3\n",
      "VLEURGAT: 3\n",
      "REMBOURSABLE: 3\n",
      "HECTOR DENIS: 2\n",
      "HERRY: 2\n",
      "BONNO: 2\n",
      "BRAVES: 2\n",
      "LOUIS BOIS DORÉ: 2\n",
      "FIAI: 2\n",
      "ALLA: 2\n",
      "HEURS: 2\n",
      "BELGIKA: 2\n",
      "SÉRIÉ REMBOURSABLE: 2\n",
      "MINÉRALE: 2\n",
      "BAUDOUIN: 2\n",
      "JJOSTE ÉTAUX: 1\n",
      "TOURNIS: 1\n",
      "HONNEURS: 1\n"
     ]
    }
   ],
   "source": [
    "import spacy\n",
    "from collections import defaultdict\n",
    "\n",
    "# Charger le modèle français\n",
    "nlp = spacy.load(\"fr_core_news_md\")\n",
    "\n",
    "# Exemple : Texte à analyser (remplacez `text` par votre contenu)\n",
    "# Divisez votre texte en morceaux si nécessaire\n",
    "chunk_size = 100000  # Taille d'un segment\n",
    "chunks = [text[i:i+chunk_size] for i in range(0, len(text), chunk_size)]\n",
    "\n",
    "# Initialiser un dictionnaire pour stocker les occurrences cumulées\n",
    "people = defaultdict(int)\n",
    "\n",
    "# Traiter chaque segment\n",
    "for i, chunk in enumerate(chunks):\n",
    "    print(f\"Traitement du segment {i+1}/{len(chunks)}...\")\n",
    "\n",
    "    # Traiter le texte avec SpaCy\n",
    "    doc = nlp(chunk)\n",
    "\n",
    "    # Compter les entités de type \"PER\" (Personnes)\n",
    "    for ent in doc.ents:\n",
    "        if ent.label_ == \"PER\" and len(ent.text) > 3:  # Filtrer par longueur\n",
    "            people[ent.text] += 1\n",
    "\n",
    "    # Afficher les résultats intermédiaires\n",
    "    print(f\"Résultats intermédiaires après le segment {i+1}:\")\n",
    "    sorted_people = sorted(people.items(), key=lambda x: x[1], reverse=True)\n",
    "    for name, count in sorted_people[:10]:  # Afficher les 10 noms les plus fréquents\n",
    "        print(f\"{name}: {count}\")\n",
    "\n",
    "# Afficher les résultats finaux\n",
    "print(\"\\nRésultats finaux :\")\n",
    "sorted_people = sorted(people.items(), key=lambda x: x[1], reverse=True)\n",
    "for name, count in sorted_people[:20]:  # Afficher les 20 noms les plus fréquents\n",
    "    print(f\"{name}: {count}\")\n"
   ]
  },
  {
   "cell_type": "code",
   "execution_count": 40,
   "metadata": {},
   "outputs": [
    {
     "name": "stdout",
     "output_type": "stream",
     "text": [
      "LOCAT apparait 5 fois dans le corpus\n",
      "DUDIT apparait 5 fois dans le corpus\n",
      "CIBILS apparait 3 fois dans le corpus\n",
      "VLEURGAT apparait 3 fois dans le corpus\n",
      "REMBOURSABLE apparait 3 fois dans le corpus\n",
      "HECTOR DENIS apparait 2 fois dans le corpus\n",
      "HERRY apparait 2 fois dans le corpus\n",
      "BONNO apparait 2 fois dans le corpus\n",
      "BRAVES apparait 2 fois dans le corpus\n",
      "LOUIS BOIS DORÉ apparait 2 fois dans le corpus\n",
      "FIAI apparait 2 fois dans le corpus\n",
      "ALLA apparait 2 fois dans le corpus\n",
      "HEURS apparait 2 fois dans le corpus\n",
      "BELGIKA apparait 2 fois dans le corpus\n",
      "SÉRIÉ REMBOURSABLE apparait 2 fois dans le corpus\n",
      "MINÉRALE apparait 2 fois dans le corpus\n",
      "BAUDOUIN apparait 2 fois dans le corpus\n",
      "JJOSTE ÉTAUX apparait 1 fois dans le corpus\n",
      "TOURNIS apparait 1 fois dans le corpus\n",
      "HONNEURS apparait 1 fois dans le corpus\n",
      "REGARDAIT COIFFET apparait 1 fois dans le corpus\n",
      "FAUDRA apparait 1 fois dans le corpus\n",
      "MÉCHA apparait 1 fois dans le corpus\n",
      "SOMBRES apparait 1 fois dans le corpus\n",
      "AÇORES BISE apparait 1 fois dans le corpus\n",
      "NOËL ALITA apparait 1 fois dans le corpus\n",
      "LICHTK apparait 1 fois dans le corpus\n",
      "MÉTELT apparait 1 fois dans le corpus\n",
      "WILDE apparait 1 fois dans le corpus\n",
      "SAIIS ALTÉRER apparait 1 fois dans le corpus\n",
      "RECUEILLIR apparait 1 fois dans le corpus\n",
      "FILTE apparait 1 fois dans le corpus\n",
      "NOORE apparait 1 fois dans le corpus\n",
      "GRANDIT DEVINT apparait 1 fois dans le corpus\n",
      "RÉVOLUTIONNAIRES FACULTÉS apparait 1 fois dans le corpus\n",
      "FICHUS LAINE apparait 1 fois dans le corpus\n",
      "ALESÏURES apparait 1 fois dans le corpus\n",
      "NTUR apparait 1 fois dans le corpus\n",
      "JPERS DONNE apparait 1 fois dans le corpus\n",
      "DLRÉDERODE apparait 1 fois dans le corpus\n",
      "INSTR MEUNERIE XELLOISE apparait 1 fois dans le corpus\n",
      "AÉSON apparait 1 fois dans le corpus\n",
      "ANNE JVIO apparait 1 fois dans le corpus\n",
      "NLLS apparait 1 fois dans le corpus\n",
      "PARI TRAV apparait 1 fois dans le corpus\n",
      "MILIRLAIRES apparait 1 fois dans le corpus\n",
      "VOIL CREIN apparait 1 fois dans le corpus\n",
      "TEMPORAIRES apparait 1 fois dans le corpus\n",
      "WEBER apparait 1 fois dans le corpus\n",
      "LOUIS PAIRES VASES apparait 1 fois dans le corpus\n"
     ]
    }
   ],
   "source": [
    "# Trier et imprimer\n",
    "\n",
    "sorted_people = sorted(people.items(), key=lambda kv: kv[1], reverse=True)\n",
    "\n",
    "for person, freq in sorted_people[:50]:\n",
    "    print(f\"{person} apparait {freq} fois dans le corpus\")"
   ]
  },
  {
   "cell_type": "markdown",
   "metadata": {},
   "source": [
    "Exercice: essayez de lister les lieux (LOC) et les organisations (ORG) les plus mentionnées dans le corpus"
   ]
  },
  {
   "cell_type": "code",
   "execution_count": 41,
   "metadata": {},
   "outputs": [
    {
     "name": "stdout",
     "output_type": "stream",
     "text": [
      "defaultdict(<class 'int'>, {'LFCRZ VOLL': 1, 'ÎJCTDC': 1, 'PHILIPPE PENNINCKX': 1, 'GARE PUNAISES MENUISIERS': 1, 'BAIHL': 1, 'GARE CONLMEUB ECRIRE': 1, 'SCHUELEN': 1, 'GÎTÉ': 1, 'SOATERR IENVIR CAVES': 1, 'MONS': 1, 'RFLIIFCS': 1, 'STER ARTEVELDÉ': 1, 'SERVANTE': 1, 'ECRIRE NÂMUR TIEN': 1, 'OCCUPERA': 1, 'AUPRÈS': 1, 'GARE ÇAIN': 1, 'ROSALIE': 1, 'LIÉGEOIS': 1, 'SOULEVA': 1, 'RÈGÎE': 1, 'CPUPE': 1, 'PROCUREUR GÉNÉRAL': 1, 'PRÉCÉDENTES RÉVÉLÉ': 1, 'OBLIG MÔRIA': 1, 'CHÇNE FROIS': 1, 'NAVENUE': 1, 'RANDS CARMES': 1})\n"
     ]
    }
   ],
   "source": [
    "# Dictionnaire pour compter les entités \"LOCATION\"\n",
    "location = defaultdict(int)\n",
    "\n",
    "# Compter les entités \"LOCATION\"\n",
    "for ent in doc.ents:\n",
    "    if ent.label_ == \"LOC\" and len(ent.text) > 3:\n",
    "        location[ent.text] += 1\n",
    "\n",
    "# Afficher les résultats\n",
    "print(location)\n",
    "\n"
   ]
  },
  {
   "cell_type": "markdown",
   "metadata": {},
   "source": [
    "Trier et imprimer les loc"
   ]
  },
  {
   "cell_type": "code",
   "execution_count": 42,
   "metadata": {},
   "outputs": [
    {
     "name": "stdout",
     "output_type": "stream",
     "text": [
      "LFCRZ VOLL apparait 1 fois dans le corpus\n",
      "ÎJCTDC apparait 1 fois dans le corpus\n",
      "PHILIPPE PENNINCKX apparait 1 fois dans le corpus\n",
      "GARE PUNAISES MENUISIERS apparait 1 fois dans le corpus\n",
      "BAIHL apparait 1 fois dans le corpus\n",
      "GARE CONLMEUB ECRIRE apparait 1 fois dans le corpus\n",
      "SCHUELEN apparait 1 fois dans le corpus\n",
      "GÎTÉ apparait 1 fois dans le corpus\n",
      "SOATERR IENVIR CAVES apparait 1 fois dans le corpus\n",
      "MONS apparait 1 fois dans le corpus\n",
      "RFLIIFCS apparait 1 fois dans le corpus\n",
      "STER ARTEVELDÉ apparait 1 fois dans le corpus\n",
      "SERVANTE apparait 1 fois dans le corpus\n",
      "ECRIRE NÂMUR TIEN apparait 1 fois dans le corpus\n",
      "OCCUPERA apparait 1 fois dans le corpus\n",
      "AUPRÈS apparait 1 fois dans le corpus\n",
      "GARE ÇAIN apparait 1 fois dans le corpus\n",
      "ROSALIE apparait 1 fois dans le corpus\n",
      "LIÉGEOIS apparait 1 fois dans le corpus\n",
      "SOULEVA apparait 1 fois dans le corpus\n",
      "RÈGÎE apparait 1 fois dans le corpus\n",
      "CPUPE apparait 1 fois dans le corpus\n",
      "PROCUREUR GÉNÉRAL apparait 1 fois dans le corpus\n",
      "PRÉCÉDENTES RÉVÉLÉ apparait 1 fois dans le corpus\n",
      "OBLIG MÔRIA apparait 1 fois dans le corpus\n",
      "CHÇNE FROIS apparait 1 fois dans le corpus\n",
      "NAVENUE apparait 1 fois dans le corpus\n",
      "RANDS CARMES apparait 1 fois dans le corpus\n"
     ]
    }
   ],
   "source": [
    "sorted_location = sorted(location.items(), key=lambda kv: kv[1], reverse=True)\n",
    "\n",
    "for location, freq in sorted_location[:50]:\n",
    "    print(f\"{location} apparait {freq} fois dans le corpus\")"
   ]
  },
  {
   "cell_type": "markdown",
   "metadata": {},
   "source": [
    "Reconnaître les organisations"
   ]
  },
  {
   "cell_type": "code",
   "execution_count": 43,
   "metadata": {},
   "outputs": [],
   "source": [
    "# Dictionnaire pour compter les entités \"ORGANIZATION\"\n",
    "organization = defaultdict(int)\n",
    "\n",
    "# Compter les entités \"ORGANIZATION\"\n",
    "for ent in doc.ents:\n",
    "    if ent.label_ == \"ORG\" and len(ent.text) > 3:  # Filtrer les entités de type \"ORG\"\n",
    "        organization[ent.text] += 1\n"
   ]
  },
  {
   "cell_type": "markdown",
   "metadata": {},
   "source": [
    "Trier et imprimer les organisations"
   ]
  },
  {
   "cell_type": "code",
   "execution_count": 44,
   "metadata": {},
   "outputs": [
    {
     "name": "stdout",
     "output_type": "stream",
     "text": [
      "CAPITAINES apparait 7 fois dans le corpus\n",
      "LIEUTENANT apparait 7 fois dans le corpus\n",
      "DÉSIRE apparait 6 fois dans le corpus\n",
      "HEUR apparait 5 fois dans le corpus\n",
      "TRANSPORTÉ apparait 5 fois dans le corpus\n",
      "COUCH apparait 4 fois dans le corpus\n",
      "ACAJ apparait 4 fois dans le corpus\n",
      "ALLEMAGNE apparait 4 fois dans le corpus\n",
      "SACHANT apparait 4 fois dans le corpus\n",
      "FOULE apparait 4 fois dans le corpus\n",
      "OITURE apparait 3 fois dans le corpus\n",
      "MINISTÈRE apparait 3 fois dans le corpus\n",
      "GÊNE apparait 3 fois dans le corpus\n",
      "ACCOUCHEUSE apparait 3 fois dans le corpus\n",
      "SERVI apparait 3 fois dans le corpus\n",
      "SÉPARÉMENT apparait 3 fois dans le corpus\n",
      "LÉOPOLD apparait 3 fois dans le corpus\n",
      "SERVANTE apparait 3 fois dans le corpus\n",
      "AUTOMOBILE apparait 3 fois dans le corpus\n",
      "AUSSITÔT apparait 3 fois dans le corpus\n",
      "RENDAIT apparait 3 fois dans le corpus\n",
      "MAJORS apparait 3 fois dans le corpus\n",
      "REMBOURSABLE apparait 3 fois dans le corpus\n",
      "GONSE apparait 3 fois dans le corpus\n",
      "LOUVAIN apparait 2 fois dans le corpus\n",
      "PÉPIN apparait 2 fois dans le corpus\n",
      "BOGARDS apparait 2 fois dans le corpus\n",
      "GARE COMPRIS apparait 2 fois dans le corpus\n",
      "BLANO apparait 2 fois dans le corpus\n",
      "AGENCE apparait 2 fois dans le corpus\n",
      "GASTRALGIE apparait 2 fois dans le corpus\n",
      "GONFLEMENT apparait 2 fois dans le corpus\n",
      "DIFFICILES apparait 2 fois dans le corpus\n",
      "BATTEMENTS apparait 2 fois dans le corpus\n",
      "ANTHRACITES apparait 2 fois dans le corpus\n",
      "LUST apparait 2 fois dans le corpus\n",
      "AUTOM apparait 2 fois dans le corpus\n",
      "AVANTAGEUX apparait 2 fois dans le corpus\n",
      "ACCOUCH apparait 2 fois dans le corpus\n",
      "DLPL apparait 2 fois dans le corpus\n",
      "DÉGAGEMENTS apparait 2 fois dans le corpus\n",
      "ACCEPTABLE apparait 2 fois dans le corpus\n",
      "WAVRE apparait 2 fois dans le corpus\n",
      "SYST apparait 2 fois dans le corpus\n",
      "MAGAS apparait 2 fois dans le corpus\n",
      "GAND apparait 2 fois dans le corpus\n",
      "RAIENT apparait 2 fois dans le corpus\n",
      "SANTÉ apparait 2 fois dans le corpus\n",
      "EUNE apparait 2 fois dans le corpus\n",
      "VENGER apparait 2 fois dans le corpus\n"
     ]
    }
   ],
   "source": [
    "sorted_organization = sorted(organization.items(), key=lambda kv: kv[1], reverse=True)\n",
    "\n",
    "for organization, freq in sorted_organization[:50]:\n",
    "    print(f\"{organization} apparait {freq} fois dans le corpus\")"
   ]
  }
 ],
 "metadata": {
  "kernelspec": {
   "display_name": "venv",
   "language": "python",
   "name": "python3"
  },
  "language_info": {
   "codemirror_mode": {
    "name": "ipython",
    "version": 3
   },
   "file_extension": ".py",
   "mimetype": "text/x-python",
   "name": "python",
   "nbconvert_exporter": "python",
   "pygments_lexer": "ipython3",
   "version": "3.11.9"
  },
  "vscode": {
   "interpreter": {
    "hash": "b1932ab1d169b4769d1550e799423b6477588e745f266d79d9004c136c81607e"
   }
  }
 },
 "nbformat": 4,
 "nbformat_minor": 4
}
