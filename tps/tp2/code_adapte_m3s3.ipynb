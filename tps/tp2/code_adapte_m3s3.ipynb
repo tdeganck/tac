{
 "cells": [
  {
   "cell_type": "markdown",
   "metadata": {},
   "source": [
    "# Reconnaissance d'entités nommées avec SpaCy"
   ]
  },
  {
   "cell_type": "markdown",
   "metadata": {},
   "source": [
    "La documentation est accessible ici: https://spacy.io/api"
   ]
  },
  {
   "cell_type": "markdown",
   "metadata": {},
   "source": [
    "## Imports"
   ]
  },
  {
   "cell_type": "code",
   "execution_count": 1,
   "metadata": {},
   "outputs": [
    {
     "name": "stdout",
     "output_type": "stream",
     "text": [
      "Collecting fr-core-news-md==3.8.0\n",
      "  Downloading https://github.com/explosion/spacy-models/releases/download/fr_core_news_md-3.8.0/fr_core_news_md-3.8.0-py3-none-any.whl (45.8 MB)\n",
      "     ---------------------------------------- 0.0/45.8 MB ? eta -:--:--\n",
      "     - -------------------------------------- 1.3/45.8 MB 7.5 MB/s eta 0:00:06\n",
      "     -- ------------------------------------- 3.4/45.8 MB 9.6 MB/s eta 0:00:05\n",
      "     ---- ----------------------------------- 5.5/45.8 MB 9.3 MB/s eta 0:00:05\n",
      "     ------ --------------------------------- 7.3/45.8 MB 9.4 MB/s eta 0:00:05\n",
      "     -------- ------------------------------- 9.2/45.8 MB 9.4 MB/s eta 0:00:04\n",
      "     --------- ------------------------------ 11.3/45.8 MB 9.4 MB/s eta 0:00:04\n",
      "     ----------- ---------------------------- 13.1/45.8 MB 9.2 MB/s eta 0:00:04\n",
      "     ------------- -------------------------- 15.5/45.8 MB 9.4 MB/s eta 0:00:04\n",
      "     --------------- ------------------------ 17.8/45.8 MB 9.6 MB/s eta 0:00:03\n",
      "     ----------------- ---------------------- 19.9/45.8 MB 9.7 MB/s eta 0:00:03\n",
      "     ------------------- -------------------- 22.0/45.8 MB 9.7 MB/s eta 0:00:03\n",
      "     --------------------- ------------------ 24.1/45.8 MB 9.7 MB/s eta 0:00:03\n",
      "     ----------------------- ---------------- 26.5/45.8 MB 9.8 MB/s eta 0:00:02\n",
      "     ------------------------ --------------- 28.3/45.8 MB 9.8 MB/s eta 0:00:02\n",
      "     -------------------------- ------------- 29.9/45.8 MB 9.5 MB/s eta 0:00:02\n",
      "     --------------------------- ------------ 32.0/45.8 MB 9.5 MB/s eta 0:00:02\n",
      "     ----------------------------- ---------- 33.8/45.8 MB 9.5 MB/s eta 0:00:02\n",
      "     ------------------------------- -------- 36.2/45.8 MB 9.6 MB/s eta 0:00:02\n",
      "     -------------------------------- ------- 37.7/45.8 MB 9.5 MB/s eta 0:00:01\n",
      "     ---------------------------------- ----- 39.6/45.8 MB 9.5 MB/s eta 0:00:01\n",
      "     ----------------------------------- ---- 40.6/45.8 MB 9.3 MB/s eta 0:00:01\n",
      "     ------------------------------------- -- 42.5/45.8 MB 9.3 MB/s eta 0:00:01\n",
      "     -------------------------------------- - 44.3/45.8 MB 9.2 MB/s eta 0:00:01\n",
      "     ---------------------------------------  45.6/45.8 MB 9.2 MB/s eta 0:00:01\n",
      "     ---------------------------------------  45.6/45.8 MB 9.2 MB/s eta 0:00:01\n",
      "     ---------------------------------------  45.6/45.8 MB 9.2 MB/s eta 0:00:01\n",
      "     ---------------------------------------- 45.8/45.8 MB 8.2 MB/s eta 0:00:00\n",
      "\u001b[38;5;2m✔ Download and installation successful\u001b[0m\n",
      "You can now load the package via spacy.load('fr_core_news_md')\n"
     ]
    },
    {
     "name": "stderr",
     "output_type": "stream",
     "text": [
      "\n",
      "[notice] A new release of pip is available: 24.2 -> 24.3.1\n",
      "[notice] To update, run: python.exe -m pip install --upgrade pip\n"
     ]
    }
   ],
   "source": [
    "from collections import defaultdict\n",
    "import spacy\n",
    "from spacy.lang.fr.examples import sentences\n",
    "!python -m spacy download fr_core_news_md"
   ]
  },
  {
   "cell_type": "code",
   "execution_count": 2,
   "metadata": {},
   "outputs": [],
   "source": [
    "nlp = spacy.load('fr_core_news_md')"
   ]
  },
  {
   "cell_type": "markdown",
   "metadata": {},
   "source": [
    "## Appliquer la reconnaissance d'entités nommées sur notre corpus"
   ]
  },
  {
   "cell_type": "code",
   "execution_count": 7,
   "metadata": {},
   "outputs": [],
   "source": [
    "# Charger le texte\n",
    "n=1000000\n",
    "text = open(\"../../data/tmp/1906_clean.txt\", encoding='utf-8').read()[:n]"
   ]
  },
  {
   "cell_type": "code",
   "execution_count": 8,
   "metadata": {},
   "outputs": [
    {
     "name": "stdout",
     "output_type": "stream",
     "text": [
      "CPU times: total: 19.5 s\n",
      "Wall time: 34.5 s\n"
     ]
    }
   ],
   "source": [
    "%%time\n",
    "# Traiter le texte\n",
    "\n",
    "doc = nlp(text)"
   ]
  },
  {
   "cell_type": "code",
   "execution_count": 9,
   "metadata": {},
   "outputs": [],
   "source": [
    "# Compter les entités\n",
    "people = defaultdict(int)\n",
    "for ent in doc.ents:\n",
    "    if ent.label_ == \"PER\" and len(ent.text) > 3:\n",
    "        people[ent.text] += 1"
   ]
  },
  {
   "cell_type": "code",
   "execution_count": 10,
   "metadata": {},
   "outputs": [
    {
     "name": "stdout",
     "output_type": "stream",
     "text": [
      "DUDIT apparait 5 fois dans le corpus\n",
      "LOCAT apparait 4 fois dans le corpus\n",
      "ALLA apparait 3 fois dans le corpus\n",
      "HECTOR DENIS apparait 3 fois dans le corpus\n",
      "CIBILS apparait 3 fois dans le corpus\n",
      "MÉRODE apparait 3 fois dans le corpus\n",
      "VLEURGAT apparait 3 fois dans le corpus\n",
      "HERRY apparait 2 fois dans le corpus\n",
      "BRAVES apparait 2 fois dans le corpus\n",
      "LOUIS GARDE apparait 2 fois dans le corpus\n",
      "LOUIS BOIS DORÉ apparait 2 fois dans le corpus\n",
      "FIAI apparait 2 fois dans le corpus\n",
      "HEURS apparait 2 fois dans le corpus\n",
      "BELGIKA apparait 2 fois dans le corpus\n",
      "MAES IXELLES apparait 2 fois dans le corpus\n",
      "REMBOURSABLE apparait 2 fois dans le corpus\n",
      "SÉRIÉ REMBOURSABLE apparait 2 fois dans le corpus\n",
      "MINÉRALE apparait 2 fois dans le corpus\n",
      "BAUDOUIN apparait 2 fois dans le corpus\n",
      "JJOSTE ÉTAUX apparait 1 fois dans le corpus\n",
      "TOURNIS apparait 1 fois dans le corpus\n",
      "HONNEURS apparait 1 fois dans le corpus\n",
      "REGARDAIT COIFFET apparait 1 fois dans le corpus\n",
      "MÉCHA apparait 1 fois dans le corpus\n",
      "SOMBRES apparait 1 fois dans le corpus\n",
      "AÇORES BISE apparait 1 fois dans le corpus\n",
      "NOËL ALITA apparait 1 fois dans le corpus\n",
      "LICHTK apparait 1 fois dans le corpus\n",
      "MÉTELT apparait 1 fois dans le corpus\n",
      "WILDE apparait 1 fois dans le corpus\n",
      "SAIIS ALTÉRER apparait 1 fois dans le corpus\n",
      "RECUEILLIR apparait 1 fois dans le corpus\n",
      "FILTE apparait 1 fois dans le corpus\n",
      "NOORE apparait 1 fois dans le corpus\n",
      "PRÉCIPII TAMMÇNT apparait 1 fois dans le corpus\n",
      "GRANDIT DEVINT apparait 1 fois dans le corpus\n",
      "ALESÏURES apparait 1 fois dans le corpus\n",
      "NTUR apparait 1 fois dans le corpus\n",
      "JPERS DONNE apparait 1 fois dans le corpus\n",
      "AISON apparait 1 fois dans le corpus\n",
      "DLRÉDERODE apparait 1 fois dans le corpus\n",
      "INSTR MEUNERIE XELLOISE apparait 1 fois dans le corpus\n",
      "AÉSON apparait 1 fois dans le corpus\n",
      "CHAMB apparait 1 fois dans le corpus\n",
      "PPEM PROPR apparait 1 fois dans le corpus\n",
      "LOUIS QUART apparait 1 fois dans le corpus\n",
      "MILIRLAIRES apparait 1 fois dans le corpus\n",
      "VOIL CREIN apparait 1 fois dans le corpus\n",
      "TEMPORAIRES apparait 1 fois dans le corpus\n",
      "WEBER apparait 1 fois dans le corpus\n"
     ]
    }
   ],
   "source": [
    "# Trier et imprimer\n",
    "\n",
    "sorted_people = sorted(people.items(), key=lambda kv: kv[1], reverse=True)\n",
    "\n",
    "for person, freq in sorted_people[:50]:\n",
    "    print(f\"{person} apparait {freq} fois dans le corpus\")"
   ]
  },
  {
   "cell_type": "markdown",
   "metadata": {},
   "source": [
    "Exercice: essayez de lister les lieux (LOC) et les organisations (ORG) les plus mentionnées dans le corpus"
   ]
  },
  {
   "cell_type": "code",
   "execution_count": 13,
   "metadata": {},
   "outputs": [
    {
     "name": "stdout",
     "output_type": "stream",
     "text": [
      "defaultdict(<class 'int'>, {'PROUVE LLCTCN': 1, 'CONTENTER MÉTT': 1, 'LEVA': 2, 'BLANCHEUR IMPASSIBLE': 1, 'MONS': 10, 'FÉRAL': 1, 'MAGE': 1, 'ESBRE CHARME': 1, 'CIRO CACHELER': 1, 'RÉUNIR': 1, 'CAMBRIDGE NUISANT': 1, 'NAVIRE': 6, 'RYNLAND': 1, 'OFFICIERS CADETS HEUREUX': 1, 'AJOURNEMENT': 1, 'LIÉGE': 1, 'ARGENTINS': 1, 'ROSALIE': 1, 'FORAME': 1, 'DRAPEAUX': 1, 'PRÉTE': 1, 'POUI': 1, 'REFIRAIM': 1, 'AIRT': 2, 'MISÉRABLE': 1, 'COSTUMAS': 1, 'CIETTU OAISTS': 1, 'FORCES SANTÉ': 1, 'FOSSÊ': 1, 'BRÀFFÀNT': 1, 'CULS BOURG': 1, 'PASCAK SERVANTE': 1, 'EARALO BIJDIOTHÉNUO MIMÉS': 1, 'TERRE': 5, 'BATTU MARDI': 1, 'MENTALITÉ': 1, 'MORCEAU': 1, 'ROYAL SEMBLABLE': 1, 'EIWMT': 1, 'REPOUSSÉ FRANCE': 1, 'MÔME CALME': 1, 'FRITURE': 1, 'MOMENTANÉ': 1, 'JAPON': 5, 'YISCONTI VENOSTA': 1, 'TRADUITS': 1, 'ENREIGISTREMENT': 1, 'CONGO': 5, 'REVUE': 1, 'ÉTAI': 1, 'IPAREH': 1, 'TICKETS': 1, 'IMPASSIBLE CRIMINEL': 1, 'REPART CELTE': 1, 'BRAINE COMLC': 1, 'COMMURIAI': 1, 'NORDFESP': 1, 'BRUXELLOIS': 6, 'HONG': 1, 'BIOUNT': 1, 'RELEVÉE': 1, 'RESSENTIR': 1, 'AMIE': 1, 'MACHIN': 2, 'HISTOIRCS': 1, 'BRÈVE': 1, 'SOCIALISTES MORTUAIRE': 1, 'REGRETTÉ': 1, 'MOINDRES': 1, 'ÇRAWFORD CONSUL BELGIQUE': 1, 'HEHHFEUR SANTÉ': 1, 'MALHEII': 1, 'JJHLLLLJ': 1, 'INTERROGATOIRE': 3, 'INTÉGRALITÉ': 1, 'MNLINES PHOTOTYPIE': 1, 'NEURASTHÉNIE': 1, 'PRÉTOIRE': 1, 'IIRE VALKENEOR': 1, 'MINNIE': 1, 'MAISON MISTRESS': 1, 'ETHEL HARMONIE SOUVENIRS': 1, 'REYNQLD': 1, 'SALON LEVA': 1, 'EXCUSA': 1, 'CARNEGIE': 1, 'NALRE': 1, 'LAINIS VENDRE': 1, 'PLACE LCHON': 1, 'MARCHANDS LIER': 1, 'BRUXELLES BERDEN': 1, 'CORYZA': 1, 'CÔIN DOCILE': 1, 'BRUXELLES RRVÏLN': 1, 'PLACE SABLON': 1, 'GARE SCHAERBEEK': 1, 'PLACE WAYEZ': 1, 'GARE NORD': 6, 'COPERCE': 1, 'DÉFINITIVE MARDI': 1, 'BÂÜMENIS': 1, 'INDUST': 1, 'RNTREPBHÎES': 1, 'GONOOLAIS RÉVEN': 1, 'VARSOVIE VÉRVIÉTOIS': 1, 'HONGRIE': 1, 'INLERN IHLERN': 1, 'LIVOURNE': 3, 'DUDEL DUDEL': 1, 'JONQUOIS PARLE VIEUX CHARLES': 1, 'SIROP ABBAYE': 1, 'BOUTEILLES': 2, 'LUNTIU ÊMSETONEMENT': 1, 'INDEMNITÉ': 1, 'CHAMB DUBLIN': 1, 'HALNAUT': 1, 'GARE MIDI GARÇON': 1, 'OUVRL': 1, 'BOÜL': 1, 'BOUTG': 1, 'FIÉE': 1, 'PLACE CÉSAR': 1, 'LRTUÔ OÛSI': 1, 'CONNUE': 2, 'FRANCOTTE': 1, 'SOLENNITÉ': 2, 'BRIAND': 1, 'ENRICHIR': 1, 'ESCAUT': 2, 'FACÉTIEUX': 1, 'APPRÉCIERONT': 1, 'PROJETÉ CIMETIÈRE': 1, 'RENVERSA': 1, 'BFTR COURAGE JETER': 1, 'PLACE LIEDTS': 1, 'TOUR': 2, 'SOUFFLÉ RÉGU': 1, 'VARSOVIE VIENNE VARS': 1, 'CHALOUPE': 1, 'CHARITÉ': 3, 'EXIGEZ': 1, 'RAGLIEUE': 1, 'LILLE': 1, 'BOULOUN': 1, 'INDUSTRIE MALAGA': 1, 'MOMRS': 1, 'GASLUCHC': 1, 'HONG LOOO': 1, 'PROFITS': 2, 'GARE SSIERRE GÉRARD': 1, 'LESVE': 1, 'MAGISTRAT': 1, 'ATTENTAIS': 1, 'FIMSSENTÎDE INSURGER': 1, 'CÔMMUNICATIBN': 1, 'INSTITUANT': 1, 'EHES': 1, 'LAITUE ENTREMETS': 1, 'OJTTL': 1, 'PEINS PÂÜSSÀVIE LARRIBE': 1, 'IUTEM CONDUI': 1, 'FINES': 1, 'IJNIPN TRAM': 1, 'DUDEL HENRL': 1, 'LÈTLI': 1, 'VERCLMY WATLFRANCQ': 1, 'GHÊNÉE': 1, 'ANÉMIES TRAITEMENT SPÉCIAL': 1, 'ESOM': 1, 'LIRU ILOLLEM BRAINEIE': 1, 'BRUYEER': 1, 'AVEUX LIBAN': 1, 'DOMDDA MARDI': 1, 'LÉGITIME': 1, 'IINAIRE ENCHEVÊTREMENTS': 1, 'CANAL UNIE': 1, 'FRANÇOIS': 1, 'CHICORÉES POLDERS': 1, 'BOIS': 1, 'CALAIS FRANCE': 1, 'TOURNAI TVUE': 1, 'DDCTC PERSOUNE': 1, 'ENVOL': 1, 'PLACE BROUOKERE': 1, 'GARE ROGIER': 2, 'CHAUSLSERIÀ JEANNE': 1, 'SENNE ESTAM': 1, 'ARIISTIQUES': 1, 'ERARD BNÛET CCASION': 1, 'SOLI': 1, 'LONDRES NANIUR': 1, 'EXCELLENT': 1, 'GARE SANATORIUM': 1, 'FOYL': 1, 'FRISSON': 1, 'OONX': 1, 'ROYAL TEMPÂ': 1, 'BJÜLOW': 1, 'LTMANIMITÉ': 1, 'GRÈVE GÉNÉRALE PROCLAMÉE': 1, 'ÉGJMTIEN': 1, 'OATZBINA': 1, 'ENVAHIR': 1, 'EMPLÂTRES POMMES': 1, 'PAYEZ COSTUME': 1, 'BOURSE': 1, 'ACAJOU': 2, 'REINE FRANCE': 1, 'CONDAMNÉS': 1, 'SERFS': 1, 'AMENÉS': 1, 'ÉPAGNEUL NOIR': 1, 'ALODBR': 1, 'AVENUB CORTENBERG': 1, 'GARE': 1, 'CARNIÉLITCS': 1, 'DANEMARK': 2, 'SŒURS FAMILLE': 1, 'FILOUS': 1, 'PARTIT': 1, 'VIOLENTE': 1, 'GARE TRAIN ENTRÉ': 1, 'CHINE': 1, 'GARE BERLINE ROYALE': 1, 'ITALIE': 1, 'MARS MURCLIÊ': 1, 'GARE AGENCE': 1, 'GARE EPRA': 1, 'LIER BUANDERIE': 1, 'ÉARIX': 1, 'CHAMB MEUB': 1, 'BALC PLÔC': 1, 'GHÉM': 1, 'WUAI BOIS BRÛLER': 1, 'MITE': 1, 'BRUXELLES': 2, 'GARE DRÈVC': 1, 'DITE': 2, 'GARE CENTRE': 1, 'BALC DEIA': 1, 'FRXÔL': 1, 'VERRIERS': 1, 'RCNTJLS MILLE': 1, 'MEUBL': 1, 'TKAME': 1, 'GARE VIJF': 1, 'GARE CIÉTÉS CLUBS': 1, 'MANEB PUTTTERIE': 1, 'DACTYL': 1, 'BLOUSE': 1, 'CULOTTIER CHAMP': 1, 'BRUXELLES GRANDO': 1, 'PILBEËK VILLAGE': 1, 'PLANCKÉ CANAL FACE': 1, 'NIÛTAIRE RÉSIDAMT': 1, 'FOIN': 1, 'SHÈI CHÉN': 1, 'TACITURNE': 3, 'GARD': 1, 'DUPONT': 1, 'FARIAGE DAME': 1, 'GARE ROGISF CHAORBEELI': 1, 'MIÜI': 1, 'STIGHELMANS': 1, 'QUETTE CHEFS SECTEUR DÉPART ENGELS': 1, 'CONCLURE': 1, 'RÉPÉTAIT': 1, 'PIÉTÉ VEUVES': 1, 'FRANÇOIS JOSEPH': 1, 'FIGURER': 1, 'SOLLICITÉE': 1, 'JASPAR ÉPOUSE': 1, 'HAECHT': 1, 'BFLBTS': 1, 'ROME SALARIA': 1, 'GUERNESEY': 1, 'HENRI RUSSIE': 1, 'CHARLES': 1, 'BOUÎANG': 1, 'GARE FOLRE': 1, 'VIEUX CLIÊNÈ': 1, 'EREZÉE': 1, 'REVEND': 1, 'PIETE DAME': 1, 'CINC JULN': 1, 'IIFT': 1, 'FERN': 1, 'LAUR JCÂOUTCH': 1, 'TROTT': 1, 'BOURSE EÂRO': 1, 'BRASSERIE': 1, 'BILSEN': 1, 'PANZER MAGN': 1, 'ROYAL EPERONNIERS': 1, 'LFCRZ VOLL': 1, 'ÎJCTDC': 1, 'PUNAISES MENUISIERS': 1, 'BAIHL': 1, 'DUBLIN IXELLES': 1, 'ECRIRE': 1, 'SCHUELEN': 1, 'GÎTÉ': 1, 'RFLIIFCS': 1, 'JEDEN': 1, 'ECRIRE NÂMUR TIEN': 1, 'AVENUS LEVARD': 1, 'OCCUPERA': 1, 'AUPRÈS': 1})\n"
     ]
    }
   ],
   "source": [
    "# Dictionnaire pour compter les entités \"LOCATION\"\n",
    "location = defaultdict(int)\n",
    "\n",
    "# Compter les entités \"LOCATION\"\n",
    "for ent in doc.ents:\n",
    "    if ent.label_ == \"LOC\" and len(ent.text) > 3:\n",
    "        location[ent.text] += 1\n",
    "\n",
    "# Afficher les résultats\n",
    "print(location)\n",
    "\n"
   ]
  }
 ],
 "metadata": {
  "kernelspec": {
   "display_name": "venv",
   "language": "python",
   "name": "python3"
  },
  "language_info": {
   "codemirror_mode": {
    "name": "ipython",
    "version": 3
   },
   "file_extension": ".py",
   "mimetype": "text/x-python",
   "name": "python",
   "nbconvert_exporter": "python",
   "pygments_lexer": "ipython3",
   "version": "3.11.9"
  },
  "vscode": {
   "interpreter": {
    "hash": "b1932ab1d169b4769d1550e799423b6477588e745f266d79d9004c136c81607e"
   }
  }
 },
 "nbformat": 4,
 "nbformat_minor": 4
}
