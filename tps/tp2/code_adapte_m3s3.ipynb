{
 "cells": [
  {
   "cell_type": "markdown",
   "metadata": {},
   "source": [
    "# Reconnaissance d'entités nommées avec SpaCy"
   ]
  },
  {
   "cell_type": "markdown",
   "metadata": {},
   "source": [
    "La documentation est accessible ici: https://spacy.io/api"
   ]
  },
  {
   "cell_type": "markdown",
   "metadata": {},
   "source": [
    "## Imports"
   ]
  },
  {
   "cell_type": "code",
   "execution_count": 1,
   "metadata": {},
   "outputs": [
    {
     "name": "stdout",
     "output_type": "stream",
     "text": [
      "Collecting fr-core-news-md==3.8.0\n",
      "  Downloading https://github.com/explosion/spacy-models/releases/download/fr_core_news_md-3.8.0/fr_core_news_md-3.8.0-py3-none-any.whl (45.8 MB)\n",
      "     ---------------------------------------- 0.0/45.8 MB ? eta -:--:--\n",
      "     - -------------------------------------- 1.3/45.8 MB 7.5 MB/s eta 0:00:06\n",
      "     -- ------------------------------------- 3.4/45.8 MB 9.6 MB/s eta 0:00:05\n",
      "     ---- ----------------------------------- 5.5/45.8 MB 9.3 MB/s eta 0:00:05\n",
      "     ------ --------------------------------- 7.3/45.8 MB 9.4 MB/s eta 0:00:05\n",
      "     -------- ------------------------------- 9.2/45.8 MB 9.4 MB/s eta 0:00:04\n",
      "     --------- ------------------------------ 11.3/45.8 MB 9.4 MB/s eta 0:00:04\n",
      "     ----------- ---------------------------- 13.1/45.8 MB 9.2 MB/s eta 0:00:04\n",
      "     ------------- -------------------------- 15.5/45.8 MB 9.4 MB/s eta 0:00:04\n",
      "     --------------- ------------------------ 17.8/45.8 MB 9.6 MB/s eta 0:00:03\n",
      "     ----------------- ---------------------- 19.9/45.8 MB 9.7 MB/s eta 0:00:03\n",
      "     ------------------- -------------------- 22.0/45.8 MB 9.7 MB/s eta 0:00:03\n",
      "     --------------------- ------------------ 24.1/45.8 MB 9.7 MB/s eta 0:00:03\n",
      "     ----------------------- ---------------- 26.5/45.8 MB 9.8 MB/s eta 0:00:02\n",
      "     ------------------------ --------------- 28.3/45.8 MB 9.8 MB/s eta 0:00:02\n",
      "     -------------------------- ------------- 29.9/45.8 MB 9.5 MB/s eta 0:00:02\n",
      "     --------------------------- ------------ 32.0/45.8 MB 9.5 MB/s eta 0:00:02\n",
      "     ----------------------------- ---------- 33.8/45.8 MB 9.5 MB/s eta 0:00:02\n",
      "     ------------------------------- -------- 36.2/45.8 MB 9.6 MB/s eta 0:00:02\n",
      "     -------------------------------- ------- 37.7/45.8 MB 9.5 MB/s eta 0:00:01\n",
      "     ---------------------------------- ----- 39.6/45.8 MB 9.5 MB/s eta 0:00:01\n",
      "     ----------------------------------- ---- 40.6/45.8 MB 9.3 MB/s eta 0:00:01\n",
      "     ------------------------------------- -- 42.5/45.8 MB 9.3 MB/s eta 0:00:01\n",
      "     -------------------------------------- - 44.3/45.8 MB 9.2 MB/s eta 0:00:01\n",
      "     ---------------------------------------  45.6/45.8 MB 9.2 MB/s eta 0:00:01\n",
      "     ---------------------------------------  45.6/45.8 MB 9.2 MB/s eta 0:00:01\n",
      "     ---------------------------------------  45.6/45.8 MB 9.2 MB/s eta 0:00:01\n",
      "     ---------------------------------------- 45.8/45.8 MB 8.2 MB/s eta 0:00:00\n",
      "\u001b[38;5;2m✔ Download and installation successful\u001b[0m\n",
      "You can now load the package via spacy.load('fr_core_news_md')\n"
     ]
    },
    {
     "name": "stderr",
     "output_type": "stream",
     "text": [
      "\n",
      "[notice] A new release of pip is available: 24.2 -> 24.3.1\n",
      "[notice] To update, run: python.exe -m pip install --upgrade pip\n"
     ]
    }
   ],
   "source": [
    "from collections import defaultdict\n",
    "import spacy\n",
    "from spacy.lang.fr.examples import sentences\n",
    "!python -m spacy download fr_core_news_md"
   ]
  },
  {
   "cell_type": "code",
   "execution_count": 2,
   "metadata": {},
   "outputs": [],
   "source": [
    "nlp = spacy.load('fr_core_news_md')"
   ]
  },
  {
   "cell_type": "markdown",
   "metadata": {},
   "source": [
    "## Appliquer la reconnaissance d'entités nommées sur notre corpus"
   ]
  },
  {
   "cell_type": "code",
   "execution_count": 7,
   "metadata": {},
   "outputs": [],
   "source": [
    "# Charger le texte\n",
    "n=1000000\n",
    "text = open(\"../../data/tmp/1906_clean.txt\", encoding='utf-8').read()[:n]"
   ]
  },
  {
   "cell_type": "code",
   "execution_count": 8,
   "metadata": {},
   "outputs": [
    {
     "name": "stdout",
     "output_type": "stream",
     "text": [
      "CPU times: total: 19.5 s\n",
      "Wall time: 34.5 s\n"
     ]
    }
   ],
   "source": [
    "%%time\n",
    "# Traiter le texte\n",
    "\n",
    "doc = nlp(text)"
   ]
  },
  {
   "cell_type": "code",
   "execution_count": 9,
   "metadata": {},
   "outputs": [],
   "source": [
    "# Compter les entités\n",
    "people = defaultdict(int)\n",
    "for ent in doc.ents:\n",
    "    if ent.label_ == \"PER\" and len(ent.text) > 3:\n",
    "        people[ent.text] += 1"
   ]
  },
  {
   "cell_type": "code",
   "execution_count": 10,
   "metadata": {},
   "outputs": [
    {
     "name": "stdout",
     "output_type": "stream",
     "text": [
      "DUDIT apparait 5 fois dans le corpus\n",
      "LOCAT apparait 4 fois dans le corpus\n",
      "ALLA apparait 3 fois dans le corpus\n",
      "HECTOR DENIS apparait 3 fois dans le corpus\n",
      "CIBILS apparait 3 fois dans le corpus\n",
      "MÉRODE apparait 3 fois dans le corpus\n",
      "VLEURGAT apparait 3 fois dans le corpus\n",
      "HERRY apparait 2 fois dans le corpus\n",
      "BRAVES apparait 2 fois dans le corpus\n",
      "LOUIS GARDE apparait 2 fois dans le corpus\n",
      "LOUIS BOIS DORÉ apparait 2 fois dans le corpus\n",
      "FIAI apparait 2 fois dans le corpus\n",
      "HEURS apparait 2 fois dans le corpus\n",
      "BELGIKA apparait 2 fois dans le corpus\n",
      "MAES IXELLES apparait 2 fois dans le corpus\n",
      "REMBOURSABLE apparait 2 fois dans le corpus\n",
      "SÉRIÉ REMBOURSABLE apparait 2 fois dans le corpus\n",
      "MINÉRALE apparait 2 fois dans le corpus\n",
      "BAUDOUIN apparait 2 fois dans le corpus\n",
      "JJOSTE ÉTAUX apparait 1 fois dans le corpus\n",
      "TOURNIS apparait 1 fois dans le corpus\n",
      "HONNEURS apparait 1 fois dans le corpus\n",
      "REGARDAIT COIFFET apparait 1 fois dans le corpus\n",
      "MÉCHA apparait 1 fois dans le corpus\n",
      "SOMBRES apparait 1 fois dans le corpus\n",
      "AÇORES BISE apparait 1 fois dans le corpus\n",
      "NOËL ALITA apparait 1 fois dans le corpus\n",
      "LICHTK apparait 1 fois dans le corpus\n",
      "MÉTELT apparait 1 fois dans le corpus\n",
      "WILDE apparait 1 fois dans le corpus\n",
      "SAIIS ALTÉRER apparait 1 fois dans le corpus\n",
      "RECUEILLIR apparait 1 fois dans le corpus\n",
      "FILTE apparait 1 fois dans le corpus\n",
      "NOORE apparait 1 fois dans le corpus\n",
      "PRÉCIPII TAMMÇNT apparait 1 fois dans le corpus\n",
      "GRANDIT DEVINT apparait 1 fois dans le corpus\n",
      "ALESÏURES apparait 1 fois dans le corpus\n",
      "NTUR apparait 1 fois dans le corpus\n",
      "JPERS DONNE apparait 1 fois dans le corpus\n",
      "AISON apparait 1 fois dans le corpus\n",
      "DLRÉDERODE apparait 1 fois dans le corpus\n",
      "INSTR MEUNERIE XELLOISE apparait 1 fois dans le corpus\n",
      "AÉSON apparait 1 fois dans le corpus\n",
      "CHAMB apparait 1 fois dans le corpus\n",
      "PPEM PROPR apparait 1 fois dans le corpus\n",
      "LOUIS QUART apparait 1 fois dans le corpus\n",
      "MILIRLAIRES apparait 1 fois dans le corpus\n",
      "VOIL CREIN apparait 1 fois dans le corpus\n",
      "TEMPORAIRES apparait 1 fois dans le corpus\n",
      "WEBER apparait 1 fois dans le corpus\n"
     ]
    }
   ],
   "source": [
    "# Trier et imprimer\n",
    "\n",
    "sorted_people = sorted(people.items(), key=lambda kv: kv[1], reverse=True)\n",
    "\n",
    "for person, freq in sorted_people[:50]:\n",
    "    print(f\"{person} apparait {freq} fois dans le corpus\")"
   ]
  },
  {
   "cell_type": "markdown",
   "metadata": {},
   "source": [
    "Exercice: essayez de lister les lieux (LOC) et les organisations (ORG) les plus mentionnées dans le corpus"
   ]
  },
  {
   "cell_type": "code",
   "execution_count": 32,
   "metadata": {},
   "outputs": [
    {
     "ename": "NameError",
     "evalue": "name 'loc' is not defined",
     "output_type": "error",
     "traceback": [
      "\u001b[1;31m---------------------------------------------------------------------------\u001b[0m",
      "\u001b[1;31mNameError\u001b[0m                                 Traceback (most recent call last)",
      "\u001b[1;32mc:\\Users\\tdeganck\\Doc en local\\Corpus\\tac\\module3\\s3_ner.ipynb Cell 21\u001b[0m line \u001b[0;36m5\n\u001b[0;32m      <a href='vscode-notebook-cell:/c%3A/Users/tdeganck/Doc%20en%20local/Corpus/tac/module3/s3_ner.ipynb#X25sZmlsZQ%3D%3D?line=2'>3</a>\u001b[0m \u001b[39mfor\u001b[39;00m ent \u001b[39min\u001b[39;00m doc\u001b[39m.\u001b[39ments:\n\u001b[0;32m      <a href='vscode-notebook-cell:/c%3A/Users/tdeganck/Doc%20en%20local/Corpus/tac/module3/s3_ner.ipynb#X25sZmlsZQ%3D%3D?line=3'>4</a>\u001b[0m     \u001b[39mif\u001b[39;00m ent\u001b[39m.\u001b[39mlabel_ \u001b[39m==\u001b[39m \u001b[39m\"\u001b[39m\u001b[39mLOC\u001b[39m\u001b[39m\"\u001b[39m \u001b[39mand\u001b[39;00m \u001b[39mlen\u001b[39m(ent\u001b[39m.\u001b[39mtext) \u001b[39m>\u001b[39m \u001b[39m3\u001b[39m:\n\u001b[1;32m----> <a href='vscode-notebook-cell:/c%3A/Users/tdeganck/Doc%20en%20local/Corpus/tac/module3/s3_ner.ipynb#X25sZmlsZQ%3D%3D?line=4'>5</a>\u001b[0m         loc[ent\u001b[39m.\u001b[39mtext] \u001b[39m+\u001b[39m\u001b[39m=\u001b[39m \u001b[39m1\u001b[39m\n",
      "\u001b[1;31mNameError\u001b[0m: name 'loc' is not defined"
     ]
    }
   ],
   "source": [
    "# Compter les entités\n",
    "people = defaultdict(int)\n",
    "for ent in doc.ents:\n",
    "    if ent.label_ == \"LOC\" and len(ent.text) > 3:\n",
    "        loc[ent.text] += 1"
   ]
  }
 ],
 "metadata": {
  "kernelspec": {
   "display_name": "venv",
   "language": "python",
   "name": "python3"
  },
  "language_info": {
   "codemirror_mode": {
    "name": "ipython",
    "version": 3
   },
   "file_extension": ".py",
   "mimetype": "text/x-python",
   "name": "python",
   "nbconvert_exporter": "python",
   "pygments_lexer": "ipython3",
   "version": "3.11.9"
  },
  "vscode": {
   "interpreter": {
    "hash": "b1932ab1d169b4769d1550e799423b6477588e745f266d79d9004c136c81607e"
   }
  }
 },
 "nbformat": 4,
 "nbformat_minor": 4
}
