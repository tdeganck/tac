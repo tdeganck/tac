{
 "cells": [
  {
   "cell_type": "markdown",
   "metadata": {},
   "source": [
    "# Extraction de Keywords"
   ]
  },
  {
   "cell_type": "markdown",
   "metadata": {},
   "source": [
    "## Imports"
   ]
  },
  {
   "cell_type": "code",
   "execution_count": 1,
   "metadata": {},
   "outputs": [],
   "source": [
    "import os\n",
    "import yake"
   ]
  },
  {
   "cell_type": "markdown",
   "metadata": {},
   "source": [
    "## Extraire les mots clés d'un document avec Yake"
   ]
  },
  {
   "cell_type": "markdown",
   "metadata": {},
   "source": [
    "https://github.com/LIAAD/yake"
   ]
  },
  {
   "cell_type": "code",
   "execution_count": 2,
   "metadata": {},
   "outputs": [
    {
     "data": {
      "text/plain": [
       "<yake.yake.KeywordExtractor at 0x21d12b28850>"
      ]
     },
     "execution_count": 2,
     "metadata": {},
     "output_type": "execute_result"
    }
   ],
   "source": [
    "# Instantier l'extracteur de mots clés\n",
    "kw_extractor = yake.KeywordExtractor(lan=\"fr\", top=50)\n",
    "kw_extractor"
   ]
  },
  {
   "cell_type": "code",
   "execution_count": 9,
   "metadata": {},
   "outputs": [],
   "source": [
    "# Lister les Fichiers\n",
    "data_path = \"../../data/txt/\"\n",
    "files = [f for f in os.listdir(data_path) if f.endswith('.txt')]"
   ]
  },
  {
   "cell_type": "markdown",
   "metadata": {},
   "source": [
    "Fonction de sélection des fichiers d'une année spécifique"
   ]
  },
  {
   "cell_type": "code",
   "execution_count": 10,
   "metadata": {},
   "outputs": [],
   "source": [
    "def selectionner_fichiers_par_annee(repertoire, annee_cible):\n",
    "    \"\"\"\n",
    "    Sélectionne tous les fichiers .txt d'une année spécifique basée sur leur nom.\n",
    "    \n",
    "    :param repertoire: Chemin du dossier contenant les fichiers.\n",
    "    :param annee_cible: Année cible sous forme de chaîne ('1906').\n",
    "    :return: Liste des fichiers correspondant à l'année.\n",
    "    \"\"\"\n",
    "    fichiers_selectionnes = []\n",
    "\n",
    "    # Parcourir tous les fichiers dans le répertoire\n",
    "    for fichier in os.listdir(repertoire):\n",
    "        # Vérifier si c'est un fichier texte\n",
    "        if fichier.endswith(\".txt\"):\n",
    "            try:\n",
    "                # Découper le nom du fichier\n",
    "                fichier_split = fichier.split('_')  # ['KB', 'JB838', '1887-12-22', '01-00001']\n",
    "                date = fichier_split[2]            # \"1887-12-22\"\n",
    "                annee = date.split('-')[0]         # \"1887\"\n",
    "\n",
    "                # Vérifier si l'année correspond à l'année cible\n",
    "                if annee == annee_cible:\n",
    "                    fichiers_selectionnes.append(os.path.join(repertoire, fichier))  # Chemin complet\n",
    "            except IndexError:\n",
    "                # Ignorer les fichiers mal formatés\n",
    "                pass\n",
    "\n",
    "    return fichiers_selectionnes"
   ]
  },
  {
   "cell_type": "markdown",
   "metadata": {},
   "source": [
    "Appel de la fonction de sélection pour l'année cible (1906)"
   ]
  },
  {
   "cell_type": "code",
   "execution_count": 11,
   "metadata": {},
   "outputs": [],
   "source": [
    "# Spécifier l'année et le répertoire\n",
    "repertoire = data_path\n",
    "annee_cible = \"1906\"\n",
    "\n",
    "# Appeler la fonction\n",
    "fichiers_selectionnes = selectionner_fichiers_par_annee(repertoire, annee_cible)"
   ]
  },
  {
   "cell_type": "markdown",
   "metadata": {},
   "source": [
    "Compter et afficher le nombre de fichiers sélectionnés pour l'année cible (1906)"
   ]
  },
  {
   "cell_type": "code",
   "execution_count": 12,
   "metadata": {},
   "outputs": [
    {
     "name": "stdout",
     "output_type": "stream",
     "text": [
      "Nombre de fichiers sélectionnés pour l'année 1906 : 100\n"
     ]
    }
   ],
   "source": [
    "# Compter le nombre de fichiers sélectionnés\n",
    "nombre_fichiers = len(fichiers_selectionnes)\n",
    "\n",
    "# Afficher le nombre de fichiers sélectionnés\n",
    "print(f\"Nombre de fichiers sélectionnés pour l'année {annee_cible} : {nombre_fichiers}\")"
   ]
  },
  {
   "cell_type": "markdown",
   "metadata": {},
   "source": [
    "Récupérer le texte des fichiers de l'année cible dans une seul fichier"
   ]
  },
  {
   "cell_type": "code",
   "execution_count": 14,
   "metadata": {},
   "outputs": [
    {
     "name": "stdout",
     "output_type": "stream",
     "text": [
      "Le texte pour l'année 1906 a été sauvegardé dans le fichier '../../data/txt/all-text_1906.txt'.\n"
     ]
    }
   ],
   "source": [
    "# Variable pour stocker tout le texte sous forme de chaîne pour l'année cible\n",
    "all_text_annee_cible = \"\"\n",
    "\n",
    "# Parcourir chaque fichier sélectionné et extraire son texte\n",
    "for fichier in fichiers_selectionnes:\n",
    "    try:\n",
    "        # Ouvrir le fichier et lire son contenu\n",
    "        with open(fichier, 'r', encoding='utf-8') as f:\n",
    "            text = f.read()  # Lire tout le contenu du fichier\n",
    "            \n",
    "            # Concaténer le texte du fichier à la variable all_text_annee_cible\n",
    "            all_text_annee_cible += text + \"\\n\"  # Ajouter une nouvelle ligne entre les fichiers\n",
    "    except Exception as e:\n",
    "        print(f\"Erreur lors de l'ouverture du fichier {fichier}: {e}\")\n",
    "\n",
    "# Sauvegarder tout le texte dans un fichier 'all-text_année_cible.txt' dans data_path\n",
    "output_filename = os.path.join(data_path, f\"all-text_{annee_cible}.txt\")\n",
    "with open(output_filename, 'w', encoding='utf-8') as output_file:\n",
    "    output_file.write(all_text_annee_cible)\n",
    "\n",
    "print(f\"Le texte pour l'année {annee_cible} a été sauvegardé dans le fichier '{output_filename}'.\")"
   ]
  },
  {
   "cell_type": "markdown",
   "metadata": {},
   "source": [
    "Extraction des mots-clés"
   ]
  },
  {
   "cell_type": "code",
   "execution_count": 16,
   "metadata": {},
   "outputs": [
    {
     "name": "stdout",
     "output_type": "stream",
     "text": [
      "tous les jours: 1.946609628037995e-06\n",
      "dans les: 2.153653319257531e-06\n",
      "des ventes par: 2.1632662554490712e-06\n",
      "les: 2.3597538952453367e-06\n",
      "dans toutes les: 2.6166408551066797e-06\n",
      "RUE DES: 2.7370653677351656e-06\n",
      "pour les: 3.330556444395215e-06\n",
      "par les: 3.8143870478619365e-06\n",
      "dans les rues: 4.076686023208183e-06\n",
      "tous les: 4.492693089990194e-06\n",
      "dans tous les: 4.6270033628486246e-06\n",
      "des: 4.933158527065683e-06\n",
      "sur les: 5.670979492165108e-06\n",
      "dans une maison: 6.441944202020223e-06\n",
      "salle des ventes: 7.511151158170137e-06\n",
      "rue des Foulons: 7.787735634303522e-06\n",
      "rue des Palais: 7.867894435169351e-06\n",
      "les rues les: 7.93352103620355e-06\n",
      "rue: 8.87199394285604e-06\n",
      "dans une: 1.04440053172405e-05\n"
     ]
    }
   ],
   "source": [
    "# Lire le texte du fichier\n",
    "input_filename = os.path.join(data_path, \"all-text_1906.txt\")\n",
    "\n",
    "# Lire le contenu du fichier\n",
    "with open(input_filename, 'r', encoding='utf-8') as f:\n",
    "    text = f.read()\n",
    "\n",
    "# Initialiser Yake et extraire les mots-clés\n",
    "kw_extractor = yake.KeywordExtractor()\n",
    "keywords = kw_extractor.extract_keywords(text)\n",
    "\n",
    "# Afficher les mots-clés extraits\n",
    "for keyword, score in keywords:\n",
    "    print(f\"{keyword}: {score}\")\n"
   ]
  },
  {
   "cell_type": "markdown",
   "metadata": {},
   "source": [
    "Vérifier le nombre de mots-clés extraits"
   ]
  },
  {
   "cell_type": "code",
   "execution_count": 17,
   "metadata": {},
   "outputs": [
    {
     "name": "stdout",
     "output_type": "stream",
     "text": [
      "Nombre de mots-clés extraits : 20\n",
      "tous les jours: 1.946609628037995e-06\n",
      "dans les: 2.153653319257531e-06\n",
      "des ventes par: 2.1632662554490712e-06\n",
      "les: 2.3597538952453367e-06\n",
      "dans toutes les: 2.6166408551066797e-06\n",
      "RUE DES: 2.7370653677351656e-06\n",
      "pour les: 3.330556444395215e-06\n",
      "par les: 3.8143870478619365e-06\n",
      "dans les rues: 4.076686023208183e-06\n",
      "tous les: 4.492693089990194e-06\n",
      "dans tous les: 4.6270033628486246e-06\n",
      "des: 4.933158527065683e-06\n",
      "sur les: 5.670979492165108e-06\n",
      "dans une maison: 6.441944202020223e-06\n",
      "salle des ventes: 7.511151158170137e-06\n",
      "rue des Foulons: 7.787735634303522e-06\n",
      "rue des Palais: 7.867894435169351e-06\n",
      "les rues les: 7.93352103620355e-06\n",
      "rue: 8.87199394285604e-06\n",
      "dans une: 1.04440053172405e-05\n"
     ]
    }
   ],
   "source": [
    "# Vérifier le nombre de mots-clés extraits\n",
    "print(f\"Nombre de mots-clés extraits : {len(keywords)}\")\n",
    "\n",
    "# Afficher les mots-clés extraits\n",
    "for keyword, score in keywords:\n",
    "    print(f\"{keyword}: {score}\")"
   ]
  },
  {
   "cell_type": "markdown",
   "metadata": {},
   "source": [
    "Vérifier la qualité du texte extrait"
   ]
  },
  {
   "cell_type": "code",
   "execution_count": null,
   "metadata": {},
   "outputs": [],
   "source": [
    "# Lire le texte du fichier\n",
    "input_filename = os.path.join(data_path, \"all-text_1906.txt\")\n",
    "\n",
    "with open(input_filename, 'r', encoding='utf-8') as f:\n",
    "    text = f.read()\n",
    "\n",
    "# Vérifier le nombre de caractères dans le texte\n",
    "text_length = len(text)\n",
    "print(f\"Nombre de caractères dans le fichier : {text_length}\")\n",
    "\n",
    "# Afficher les 500 premiers caractères du texte pour analyser la structure\n",
    "print(\"Premiers 500 caractères du fichier :\")\n",
    "print(text[:500])\n"
   ]
  }
 ],
 "metadata": {
  "kernelspec": {
   "display_name": "Python 3.10.5 ('tac_venv': venv)",
   "language": "python",
   "name": "python3"
  },
  "language_info": {
   "codemirror_mode": {
    "name": "ipython",
    "version": 3
   },
   "file_extension": ".py",
   "mimetype": "text/x-python",
   "name": "python",
   "nbconvert_exporter": "python",
   "pygments_lexer": "ipython3",
   "version": "3.11.9"
  },
  "vscode": {
   "interpreter": {
    "hash": "b1932ab1d169b4769d1550e799423b6477588e745f266d79d9004c136c81607e"
   }
  }
 },
 "nbformat": 4,
 "nbformat_minor": 4
}
