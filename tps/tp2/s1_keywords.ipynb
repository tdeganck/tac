{
 "cells": [
  {
   "cell_type": "markdown",
   "metadata": {},
   "source": [
    "# Extraction de Keywords"
   ]
  },
  {
   "cell_type": "markdown",
   "metadata": {},
   "source": [
    "## Imports"
   ]
  },
  {
   "cell_type": "code",
   "execution_count": 1,
   "metadata": {},
   "outputs": [],
   "source": [
    "import os\n",
    "import yake"
   ]
  },
  {
   "cell_type": "markdown",
   "metadata": {},
   "source": [
    "## Extraire les mots clés d'un document avec Yake"
   ]
  },
  {
   "cell_type": "markdown",
   "metadata": {},
   "source": [
    "https://github.com/LIAAD/yake"
   ]
  },
  {
   "cell_type": "code",
   "execution_count": 2,
   "metadata": {},
   "outputs": [
    {
     "data": {
      "text/plain": [
       "<yake.yake.KeywordExtractor at 0x21d12b28850>"
      ]
     },
     "execution_count": 2,
     "metadata": {},
     "output_type": "execute_result"
    }
   ],
   "source": [
    "# Instantier l'extracteur de mots clés\n",
    "kw_extractor = yake.KeywordExtractor(lan=\"fr\", top=50)\n",
    "kw_extractor"
   ]
  },
  {
   "cell_type": "code",
   "execution_count": 6,
   "metadata": {},
   "outputs": [],
   "source": [
    "# Lister les Fichiers\n",
    "data_path = \"../../data/txt/\"\n",
    "files = [f for f in os.listdir(data_path) if f.endswith('.txt')]"
   ]
  },
  {
   "cell_type": "markdown",
   "metadata": {},
   "source": [
    "Fonction de sélection des fichiers d'une année spécifique"
   ]
  },
  {
   "cell_type": "code",
   "execution_count": null,
   "metadata": {},
   "outputs": [],
   "source": [
    "def selectionner_fichiers_par_annee(repertoire, annee_cible):\n",
    "    \"\"\"\n",
    "    Sélectionne tous les fichiers .txt d'une année spécifique basée sur leur nom.\n",
    "    \n",
    "    :param repertoire: Chemin du dossier contenant les fichiers.\n",
    "    :param annee_cible: Année cible sous forme de chaîne ('1906').\n",
    "    :return: Liste des fichiers correspondant à l'année.\n",
    "    \"\"\"\n",
    "    fichiers_selectionnes = []\n",
    "\n",
    "    # Parcourir tous les fichiers dans le répertoire\n",
    "    for fichier in os.listdir(repertoire):\n",
    "        # Vérifier si c'est un fichier texte\n",
    "        if fichier.endswith(\".txt\"):\n",
    "            try:\n",
    "                # Découper le nom du fichier\n",
    "                fichier_split = fichier.split('_')  # ['KB', 'JB838', '1887-12-22', '01-00001']\n",
    "                date = fichier_split[2]            # \"1887-12-22\"\n",
    "                annee = date.split('-')[0]         # \"1887\"\n",
    "\n",
    "                # Vérifier si l'année correspond à l'année cible\n",
    "                if annee == annee_cible:\n",
    "                    fichiers_selectionnes.append(os.path.join(repertoire, fichier))  # Chemin complet\n",
    "            except IndexError:\n",
    "                # Ignorer les fichiers mal formatés\n",
    "                pass\n",
    "\n",
    "    return fichiers_selectionnes"
   ]
  },
  {
   "cell_type": "markdown",
   "metadata": {},
   "source": [
    "Appel de la fonction de sélection pour l'année cible (1906)"
   ]
  },
  {
   "cell_type": "code",
   "execution_count": null,
   "metadata": {},
   "outputs": [],
   "source": [
    "# Spécifier l'année et le répertoire\n",
    "repertoire = data_path\n",
    "annee_cible = \"1906\"\n",
    "\n",
    "# Appeler la fonction\n",
    "fichiers_selectionnes = selectionner_fichiers_par_annee(repertoire, annee_cible)"
   ]
  },
  {
   "cell_type": "markdown",
   "metadata": {},
   "source": [
    "Compter et afficher le nombre de fichiers sélectionnés pour l'année cible (1906)"
   ]
  },
  {
   "cell_type": "code",
   "execution_count": null,
   "metadata": {},
   "outputs": [],
   "source": [
    "# Compter le nombre de fichiers sélectionnés\n",
    "nombre_fichiers = len(fichiers_selectionnes)\n",
    "\n",
    "# Afficher le nombre de fichiers sélectionnés\n",
    "print(f\"Nombre de fichiers sélectionnés pour l'année {annee_cible} : {nombre_fichiers}\")"
   ]
  },
  {
   "cell_type": "code",
   "execution_count": 13,
   "metadata": {},
   "outputs": [
    {
     "data": {
      "text/plain": [
       "'ræge quotidien J00 EXEMPLAIRES distribués gratuitement ■ k . ‘ dans ilàgg;lomération bruxelloise et.en province. ï personnes habitant aux étages fenile journal contre 60 c“« par mois. fSpir est expédié en proyinôe contre t*»\"par mois, payables par trimestre. annonces, faits divers et réclames sjont reçu frie d’Isabelle ; à l’AGENCE ROSSFJl. 44. -v , et do l’Enseignement, à BraxelL annonces remises avant midi sont ; -a ;\\'% >1 v»^.:Vv* *\\'• hv/f ■- v 1 v ; \\' y > fif \\'ji l\\'H-et. Jeudi 22 Décembre i8'"
      ]
     },
     "execution_count": 13,
     "metadata": {},
     "output_type": "execute_result"
    }
   ],
   "source": [
    "# Récupérer le texte du fichier\n",
    "text = open(os.path.join(data_path, this_file), 'r', encoding='utf-8').read()\n",
    "text[:500]"
   ]
  },
  {
   "cell_type": "code",
   "execution_count": 14,
   "metadata": {},
   "outputs": [
    {
     "data": {
      "text/plain": [
       "[('EXEMPLAIRES distribués gratuitement', np.float64(0.0017848580261551092)),\n",
       " ('lomération bruxelloise et.en', np.float64(0.005155299816540558)),\n",
       " ('EXEMPLAIRES distribués', np.float64(0.01032598116126104)),\n",
       " ('bruxelloise et.en province', np.float64(0.0217728194968606)),\n",
       " ('assassins politiques', np.float64(0.025372781929452606)),\n",
       " ('distribués gratuitement', np.float64(0.02901112747485758)),\n",
       " ('lomération bruxelloise', np.float64(0.02901112747485758)),\n",
       " ('bruxelloise et.en', np.float64(0.029422999711739103)),\n",
       " ('QUOTIDIEN GRATUIT Température', np.float64(0.030648777502273662)),\n",
       " ('qu’il', np.float64(0.03653509748641892)),\n",
       " ('ASSASSINS', np.float64(0.04361721127037355)),\n",
       " ('Température Baromètre Humidité', np.float64(0.04454901112965941)),\n",
       " ('midi Température Baromètre', np.float64(0.045927628989632464)),\n",
       " ('ræge quotidien', np.float64(0.04655000901040904)),\n",
       " ('commis', np.float64(0.048058141007095885)),\n",
       " ('fut', np.float64(0.04882392397365301)),\n",
       " ('chemin de fer', np.float64(0.050194801488827295)),\n",
       " ('Louvel', np.float64(0.053759999074197734)),\n",
       " ('d’une', np.float64(0.05450795849251973)),\n",
       " ('uno', np.float64(0.05452583448200533)),\n",
       " ('chemin', np.float64(0.05671202509167882)),\n",
       " ('fer', np.float64(0.058028910575572766)),\n",
       " ('société', np.float64(0.058078927524250014)),\n",
       " ('heures', np.float64(0.06036055270043405)),\n",
       " ('EXEMPLAIRES', np.float64(0.06045375295405591)),\n",
       " ('BRUXELLES', np.float64(0.0631757910395919)),\n",
       " ('travail', np.float64(0.06677791183530812)),\n",
       " ('politiques', np.float64(0.07041544451832259)),\n",
       " ('midi', np.float64(0.07178224097813798)),\n",
       " ('Décembre', np.float64(0.07190750597999457)),\n",
       " ('jour', np.float64(0.07770046095862936)),\n",
       " ('ligne', np.float64(0.07895680838156742)),\n",
       " ('grand', np.float64(0.08524689838955626)),\n",
       " ('point', np.float64(0.0854454893320521)),\n",
       " ('d’un', np.float64(0.08590493659764754)),\n",
       " ('SIÈCLE', np.float64(0.08642054582643506)),\n",
       " ('GRATUIT Température maximum', np.float64(0.08644026197037143)),\n",
       " ('ans', np.float64(0.08677156289016351)),\n",
       " ('commis au chemin', np.float64(0.08702378888054658)),\n",
       " ('Jeudi', np.float64(0.08748169873313137)),\n",
       " ('Morey et Pépin', np.float64(0.08788098813597583)),\n",
       " ('capitaine', np.float64(0.08811629535825924)),\n",
       " ('annonces', np.float64(0.0917124986670345)),\n",
       " ('timbre', np.float64(0.09188506963089502)),\n",
       " ('homme', np.float64(0.09422634093974369)),\n",
       " ('QUOTIDIEN GRATUIT', np.float64(0.09848701432311693)),\n",
       " ('GRATUIT Température', np.float64(0.10056496590851494)),\n",
       " ('facteur rural', np.float64(0.10065021437485533)),\n",
       " ('mort', np.float64(0.10162870130788097)),\n",
       " ('Température Baromètre', np.float64(0.1059845847757555))]"
      ]
     },
     "execution_count": 14,
     "metadata": {},
     "output_type": "execute_result"
    }
   ],
   "source": [
    "# Extraire les mots clés de ce texte\n",
    "keywords = kw_extractor.extract_keywords(text)\n",
    "keywords"
   ]
  },
  {
   "cell_type": "code",
   "execution_count": 17,
   "metadata": {},
   "outputs": [
    {
     "data": {
      "text/plain": [
       "['EXEMPLAIRES distribués gratuitement',\n",
       " 'lomération bruxelloise et.en',\n",
       " 'bruxelloise et.en province',\n",
       " 'QUOTIDIEN GRATUIT Température',\n",
       " 'Température Baromètre Humidité',\n",
       " 'midi Température Baromètre',\n",
       " 'chemin de fer',\n",
       " 'GRATUIT Température maximum',\n",
       " 'commis au chemin',\n",
       " 'Morey et Pépin']"
      ]
     },
     "execution_count": 17,
     "metadata": {},
     "output_type": "execute_result"
    }
   ],
   "source": [
    "# Ne garder que les bigrammes\n",
    "kept = []\n",
    "for kw, score in keywords:\n",
    "    words = kw.split()\n",
    "    if len(words) == 3:\n",
    "        kept.append(kw)\n",
    "kept"
   ]
  },
  {
   "cell_type": "markdown",
   "metadata": {},
   "source": [
    "## Faire la même opération sur tous les documents"
   ]
  },
  {
   "cell_type": "code",
   "execution_count": 18,
   "metadata": {},
   "outputs": [
    {
     "name": "stdout",
     "output_type": "stream",
     "text": [
      "KB_JB838_1887-12-22_01-00001.txt mentions these keywords: EXEMPLAIRES distribués, assassins politiques, distribués gratuitement, lomération bruxelloise, bruxelloise et.en, ræge quotidien, QUOTIDIEN GRATUIT, GRATUIT Température, facteur rural, Température Baromètre...\n",
      "KB_JB838_1887-12-22_01-00002.txt mentions these keywords: Ligue nalio, rester fidèle, Van Ophem...\n",
      "KB_JB838_1887-12-22_01-00003.txt mentions these keywords: prince Guillaume, Finet critique, Pierrot Macabre, HEURE Vienne...\n",
      "KB_JB838_1887-12-22_01-00004.txt mentions these keywords: demande place, fiVS ÉPICERIES, ÉPICERIES t'Tu, lie Cologne, Fille val., place Madou, Bon Marché, rue Scailquin, rue Plantin, sci rue, bon certifie, rue lie, rue Bines, exposition Bruxelles, place sach, Bruxelles Centre, BRUXELLES Rideauœ...\n",
      "KB_JB838_1887-12-22_01-00005.txt mentions these keywords: rue Plantin, OBJETS PERDUS, PERDUS gravure, LOUER DEMANDES, grande rue, rue Blaes, rue Hôtel, prix Bruxelles, rue Goflhrl, wôporler rue, rue St-Micliel...\n",
      "KB_JB838_1887-12-22_01-00006.txt mentions these keywords: RHUM ST-GEORGES, question militaire, Société royale, Société Philharmonique, l’école militaire, rue Haute, Nord BRUXELLES, préparatifs militaires, loi portant...\n",
      "KB_JB838_1887-12-23_01-00001.txt mentions these keywords: matin Température, Température maximum, GRATUIT température, température Irti, heurte matin, OBSERVATOIRE ROYAL, Irti Baromètre, QUOTIDIEN GRATUIT, JOURNAL QUOTIDIEN, rues Royale, Vent dominant, Haute Pinte, Bruxelles d’un, Pinte rue...\n",
      "KB_JB838_1887-12-23_01-00002.txt mentions these keywords: ...\n",
      "KB_JB838_1887-12-24_01-00001.txt mentions these keywords: TIRAGE QUOTIDIEN, nommé président, JOURNAL QUOTIDIEN, c’est qu’il, QUOTIDIEN GRATUIT, ANNÉE Samedi, section artistique, BRUXELLES PRIX...\n",
      "KB_JB838_1887-12-24_01-00002.txt mentions these keywords: capitaine Mac, Mme Lachaud, rue Joseph, police qu’il, jeune homme...\n"
     ]
    }
   ],
   "source": [
    "for f in sorted(files)[:10]:\n",
    "    text = open(os.path.join(data_path, f), 'r', encoding=\"utf-8\").read()\n",
    "    keywords = kw_extractor.extract_keywords(text)\n",
    "    kept = []\n",
    "    for kw, score in keywords:\n",
    "        words = kw.split()\n",
    "        if len(words) == 2:\n",
    "            kept.append(kw)\n",
    "    print(f\"{f} mentions these keywords: {', '.join(kept)}...\")"
   ]
  }
 ],
 "metadata": {
  "kernelspec": {
   "display_name": "Python 3.10.5 ('tac_venv': venv)",
   "language": "python",
   "name": "python3"
  },
  "language_info": {
   "codemirror_mode": {
    "name": "ipython",
    "version": 3
   },
   "file_extension": ".py",
   "mimetype": "text/x-python",
   "name": "python",
   "nbconvert_exporter": "python",
   "pygments_lexer": "ipython3",
   "version": "3.11.9"
  },
  "vscode": {
   "interpreter": {
    "hash": "b1932ab1d169b4769d1550e799423b6477588e745f266d79d9004c136c81607e"
   }
  }
 },
 "nbformat": 4,
 "nbformat_minor": 4
}
