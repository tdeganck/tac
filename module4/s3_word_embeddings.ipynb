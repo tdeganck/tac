{
 "cells": [
  {
   "cell_type": "markdown",
   "metadata": {},
   "source": [
    "# Word Embeddings : le modèle Word2Vec"
   ]
  },
  {
   "cell_type": "markdown",
   "metadata": {},
   "source": [
    "## Imports"
   ]
  },
  {
   "cell_type": "code",
   "execution_count": 1,
   "metadata": {},
   "outputs": [],
   "source": [
    "import sys\n",
    "\n",
    "from gensim.models.phrases import Phrases, Phraser\n",
    "from gensim.models import Word2Vec\n",
    "\n",
    "import nltk\n",
    "from nltk.tokenize import wordpunct_tokenize\n",
    "from unidecode import unidecode"
   ]
  },
  {
   "cell_type": "markdown",
   "metadata": {},
   "source": [
    "## Chargement et traitement des phrases du corpus"
   ]
  },
  {
   "cell_type": "markdown",
   "metadata": {},
   "source": [
    "### Création d'un objet qui *streame* les lignes d'un fichier pour économiser de la RAM"
   ]
  },
  {
   "cell_type": "code",
   "execution_count": 2,
   "metadata": {},
   "outputs": [],
   "source": [
    "class MySentences(object):\n",
    "    \"\"\"Tokenize and Lemmatize sentences\"\"\"\n",
    "    def __init__(self, filename):\n",
    "        self.filename = filename\n",
    "\n",
    "    def __iter__(self):\n",
    "        for line in open(self.filename, encoding='utf-8', errors=\"backslashreplace\"):\n",
    "            yield [unidecode(w.lower()) for w in wordpunct_tokenize(line)]"
   ]
  },
  {
   "cell_type": "code",
   "execution_count": 3,
   "metadata": {},
   "outputs": [],
   "source": [
    "infile = f\"../data/sents.txt\"\n",
    "sentences = MySentences(infile)"
   ]
  },
  {
   "cell_type": "markdown",
   "metadata": {},
   "source": [
    "### Détection des bigrams\n",
    "\n",
    "Article intéressant sur le sujet : https://towardsdatascience.com/word2vec-for-phrases-learning-embeddings-for-more-than-one-word-727b6cf723cf"
   ]
  },
  {
   "cell_type": "code",
   "execution_count": 4,
   "metadata": {},
   "outputs": [],
   "source": [
    "bigram_phrases = Phrases(sentences)"
   ]
  },
  {
   "cell_type": "markdown",
   "metadata": {},
   "source": [
    "L'object `phrases` peut être vu comme un large dictionnaire d'expressions multi-mots associées à un score, le *PMI-like scoring*. Ce dictionnaire est construit par un apprentissage sur base d'exemples.\n",
    "Voir les références ci-dessous :\n",
    "- https://arxiv.org/abs/1310.4546\n",
    "- https://en.wikipedia.org/wiki/Pointwise_mutual_information"
   ]
  },
  {
   "cell_type": "code",
   "execution_count": 5,
   "metadata": {},
   "outputs": [
    {
     "data": {
      "text/plain": [
       "dict"
      ]
     },
     "execution_count": 5,
     "metadata": {},
     "output_type": "execute_result"
    }
   ],
   "source": [
    "type(bigram_phrases.vocab)"
   ]
  },
  {
   "cell_type": "markdown",
   "metadata": {},
   "source": [
    "Il contient de nombreuses clés qui sont autant de termes observés dans le corpus"
   ]
  },
  {
   "cell_type": "code",
   "execution_count": 6,
   "metadata": {},
   "outputs": [
    {
     "data": {
      "text/plain": [
       "15850647"
      ]
     },
     "execution_count": 6,
     "metadata": {},
     "output_type": "execute_result"
    }
   ],
   "source": [
    "len(bigram_phrases.vocab.keys())"
   ]
  },
  {
   "cell_type": "markdown",
   "metadata": {},
   "source": [
    "Prenons une clé au hasard :"
   ]
  },
  {
   "cell_type": "code",
   "execution_count": 9,
   "metadata": {},
   "outputs": [
    {
     "name": "stdout",
     "output_type": "stream",
     "text": [
      "410\n"
     ]
    }
   ],
   "source": [
    "key_ = list(bigram_phrases.vocab.keys())[156]\n",
    "print(key_)"
   ]
  },
  {
   "cell_type": "markdown",
   "metadata": {},
   "source": [
    "Le dictionnaire indique le score de cette coocurrence :"
   ]
  },
  {
   "cell_type": "code",
   "execution_count": 10,
   "metadata": {},
   "outputs": [
    {
     "data": {
      "text/plain": [
       "3508"
      ]
     },
     "execution_count": 10,
     "metadata": {},
     "output_type": "execute_result"
    }
   ],
   "source": [
    "bigram_phrases.vocab[key_]"
   ]
  },
  {
   "cell_type": "markdown",
   "metadata": {},
   "source": [
    "Lorsque l'instance de `Phrases` a été entraînée, elle peut concaténer les bigrams dans les phrases lorsque c'est pertinent."
   ]
  },
  {
   "cell_type": "markdown",
   "metadata": {},
   "source": [
    "### Conversion des `Phrases` en objet `Phraser`\n",
    "\n",
    "`Phraser` est un alias pour `gensim.models.phrases.FrozenPhrases`, voir ici https://radimrehurek.com/gensim/models/phrases.html.\n",
    "\n",
    "Le `Phraser` est une version *light* du `Phrases`, plus optimale pour transformer les phrases en concaténant les bigrams."
   ]
  },
  {
   "cell_type": "code",
   "execution_count": 11,
   "metadata": {},
   "outputs": [],
   "source": [
    "bigram_phraser = Phraser(phrases_model=bigram_phrases)"
   ]
  },
  {
   "cell_type": "markdown",
   "metadata": {},
   "source": [
    "Le `Phraser` est un objet qui convertit certains unigrams d'une liste en bigrams lorsqu'ils ont été identifiés comme pertinents."
   ]
  },
  {
   "cell_type": "markdown",
   "metadata": {},
   "source": [
    "### Extraction des trigrams"
   ]
  },
  {
   "cell_type": "markdown",
   "metadata": {},
   "source": [
    "Nous répétons l'opération en envoyant cette fois la liste de bigrams afin d'extraire les trigrams."
   ]
  },
  {
   "cell_type": "code",
   "execution_count": 13,
   "metadata": {},
   "outputs": [
    {
     "ename": "MemoryError",
     "evalue": "",
     "output_type": "error",
     "traceback": [
      "\u001b[1;31m---------------------------------------------------------------------------\u001b[0m",
      "\u001b[1;31mMemoryError\u001b[0m                               Traceback (most recent call last)",
      "\u001b[1;32mc:\\Users\\tdeganck\\Doc en local\\Corpus\\tac\\module4\\s3_word_embeddings.ipynb Cell 24\u001b[0m line \u001b[0;36m1\n\u001b[1;32m----> <a href='vscode-notebook-cell:/c%3A/Users/tdeganck/Doc%20en%20local/Corpus/tac/module4/s3_word_embeddings.ipynb#X32sZmlsZQ%3D%3D?line=0'>1</a>\u001b[0m trigram_phrases \u001b[39m=\u001b[39m Phrases(bigram_phraser[sentences])\n",
      "File \u001b[1;32mc:\\Users\\tdeganck\\Doc en local\\Corpus\\tac\\.corpus_env\\Lib\\site-packages\\gensim\\models\\phrases.py:569\u001b[0m, in \u001b[0;36mPhrases.__init__\u001b[1;34m(self, sentences, min_count, threshold, max_vocab_size, delimiter, progress_per, scoring, connector_words)\u001b[0m\n\u001b[0;32m    567\u001b[0m \u001b[39mif\u001b[39;00m sentences \u001b[39mis\u001b[39;00m \u001b[39mnot\u001b[39;00m \u001b[39mNone\u001b[39;00m:\n\u001b[0;32m    568\u001b[0m     start \u001b[39m=\u001b[39m time\u001b[39m.\u001b[39mtime()\n\u001b[1;32m--> 569\u001b[0m     \u001b[39mself\u001b[39;49m\u001b[39m.\u001b[39;49madd_vocab(sentences)\n\u001b[0;32m    570\u001b[0m     \u001b[39mself\u001b[39m\u001b[39m.\u001b[39madd_lifecycle_event(\u001b[39m\"\u001b[39m\u001b[39mcreated\u001b[39m\u001b[39m\"\u001b[39m, msg\u001b[39m=\u001b[39m\u001b[39mf\u001b[39m\u001b[39m\"\u001b[39m\u001b[39mbuilt \u001b[39m\u001b[39m{\u001b[39;00m\u001b[39mself\u001b[39m\u001b[39m}\u001b[39;00m\u001b[39m in \u001b[39m\u001b[39m{\u001b[39;00mtime\u001b[39m.\u001b[39mtime()\u001b[39m \u001b[39m\u001b[39m-\u001b[39m\u001b[39m \u001b[39mstart\u001b[39m:\u001b[39;00m\u001b[39m.2f\u001b[39m\u001b[39m}\u001b[39;00m\u001b[39ms\u001b[39m\u001b[39m\"\u001b[39m)\n",
      "File \u001b[1;32mc:\\Users\\tdeganck\\Doc en local\\Corpus\\tac\\.corpus_env\\Lib\\site-packages\\gensim\\models\\phrases.py:648\u001b[0m, in \u001b[0;36mPhrases.add_vocab\u001b[1;34m(self, sentences)\u001b[0m\n\u001b[0;32m    614\u001b[0m \u001b[39m\u001b[39m\u001b[39m\"\"\"Update model parameters with new `sentences`.\u001b[39;00m\n\u001b[0;32m    615\u001b[0m \n\u001b[0;32m    616\u001b[0m \u001b[39mParameters\u001b[39;00m\n\u001b[1;32m   (...)\u001b[0m\n\u001b[0;32m    641\u001b[0m \n\u001b[0;32m    642\u001b[0m \u001b[39m\"\"\"\u001b[39;00m\n\u001b[0;32m    643\u001b[0m \u001b[39m# Uses a separate vocab to collect the token counts from `sentences`.\u001b[39;00m\n\u001b[0;32m    644\u001b[0m \u001b[39m# This consumes more RAM than merging new sentences into `self.vocab`\u001b[39;00m\n\u001b[0;32m    645\u001b[0m \u001b[39m# directly, but gives the new sentences a fighting chance to collect\u001b[39;00m\n\u001b[0;32m    646\u001b[0m \u001b[39m# sufficient counts, before being pruned out by the (large) accumulated\u001b[39;00m\n\u001b[0;32m    647\u001b[0m \u001b[39m# counts collected in previous learn_vocab runs.\u001b[39;00m\n\u001b[1;32m--> 648\u001b[0m min_reduce, vocab, total_words \u001b[39m=\u001b[39m \u001b[39mself\u001b[39;49m\u001b[39m.\u001b[39;49m_learn_vocab(\n\u001b[0;32m    649\u001b[0m     sentences, max_vocab_size\u001b[39m=\u001b[39;49m\u001b[39mself\u001b[39;49m\u001b[39m.\u001b[39;49mmax_vocab_size, delimiter\u001b[39m=\u001b[39;49m\u001b[39mself\u001b[39;49m\u001b[39m.\u001b[39;49mdelimiter,\n\u001b[0;32m    650\u001b[0m     progress_per\u001b[39m=\u001b[39;49m\u001b[39mself\u001b[39;49m\u001b[39m.\u001b[39;49mprogress_per, connector_words\u001b[39m=\u001b[39;49m\u001b[39mself\u001b[39;49m\u001b[39m.\u001b[39;49mconnector_words,\n\u001b[0;32m    651\u001b[0m )\n\u001b[0;32m    653\u001b[0m \u001b[39mself\u001b[39m\u001b[39m.\u001b[39mcorpus_word_count \u001b[39m+\u001b[39m\u001b[39m=\u001b[39m total_words\n\u001b[0;32m    654\u001b[0m \u001b[39mif\u001b[39;00m \u001b[39mself\u001b[39m\u001b[39m.\u001b[39mvocab:\n",
      "File \u001b[1;32mc:\\Users\\tdeganck\\Doc en local\\Corpus\\tac\\.corpus_env\\Lib\\site-packages\\gensim\\models\\phrases.py:593\u001b[0m, in \u001b[0;36mPhrases._learn_vocab\u001b[1;34m(sentences, max_vocab_size, delimiter, connector_words, progress_per)\u001b[0m\n\u001b[0;32m    591\u001b[0m \u001b[39mfor\u001b[39;00m word \u001b[39min\u001b[39;00m sentence:\n\u001b[0;32m    592\u001b[0m     \u001b[39mif\u001b[39;00m word \u001b[39mnot\u001b[39;00m \u001b[39min\u001b[39;00m connector_words:\n\u001b[1;32m--> 593\u001b[0m         vocab[word] \u001b[39m=\u001b[39m vocab\u001b[39m.\u001b[39mget(word, \u001b[39m0\u001b[39m) \u001b[39m+\u001b[39m \u001b[39m1\u001b[39m\n\u001b[0;32m    594\u001b[0m         \u001b[39mif\u001b[39;00m start_token \u001b[39mis\u001b[39;00m \u001b[39mnot\u001b[39;00m \u001b[39mNone\u001b[39;00m:\n\u001b[0;32m    595\u001b[0m             phrase_tokens \u001b[39m=\u001b[39m itertools\u001b[39m.\u001b[39mchain([start_token], in_between, [word])\n",
      "\u001b[1;31mMemoryError\u001b[0m: "
     ]
    }
   ],
   "source": [
    "trigram_phrases = Phrases(bigram_phraser[sentences])"
   ]
  },
  {
   "cell_type": "code",
   "execution_count": 13,
   "metadata": {},
   "outputs": [],
   "source": [
    "trigram_phraser = Phraser(phrases_model=trigram_phrases)"
   ]
  },
  {
   "cell_type": "markdown",
   "metadata": {},
   "source": [
    "### Création d'un corpus d'unigrams, bigrams, trigrams"
   ]
  },
  {
   "cell_type": "code",
   "execution_count": 14,
   "metadata": {},
   "outputs": [],
   "source": [
    "corpus = list(trigram_phraser[bigram_phraser[sentences]])"
   ]
  },
  {
   "cell_type": "code",
   "execution_count": 15,
   "metadata": {},
   "outputs": [
    {
     "name": "stdout",
     "output_type": "stream",
     "text": [
      "[['mi', 'imnri', 'r', 'i', '<<', 'i', 'i', 'hmu', \"'\", 'i', '/', 'tx', \"-'\", 'l', ':', 'marche', 'tenu', 'hors', 'villa', ',', 'la', '9', '.'], ['--', 'u', 'a', 'ete', 'vaain', 'si', 'teicj', '>>', 'm', 'races', 'indigenes', 'de', 'fr', '.'], ['31', '<)', 'a', '5s', \"'\", 'k', '131', 'de', '.'], ['rasa', 'iichakdui', \"'\", 'te', ',', 'do', '(', 'r', '.', '3s0', 'h', '710', '.', 'taureaux', 'iallsenas', ',>', 'ia', 'u', '\\\\', '--', 'a', '--', ';', '0ii', '.'], ['hollandais', ',', 'dufr', '.'], ['0', '.'], ['--', 'a', '9', '.--', 'la', 'idto', '-', 'vachei', 'laitieres', ':', 'bn', 'vante', '1q', '.'], ['vendues', '3', '\\\\', 'au', 'prix', 'la', '410', 'a', '*', '<<', 'i', 'h', '\\\\;', 'genisses', ',', 'kl', '.'], [\"'.\", '9', '.'], ['i', 'l', '.', '2', 'i', '.', 'id', '.'], ['da', '370', 'i', '6lutr', '.'], ['marche', 'a', '<', 'u', 'porcs', '.'], ['--', 'categorie', 'de', 'lt', 'ilashtya', ':', \"'\", '237', 'on', 'vente', ';', 'vendus', '1', 'm', '.', 'do', \"'\", '2', 'i', '.--', 'a', ';:,', 'l', '--;', 'i', '.', 'l', '.'], ['des', 't', \"'\", 'innlrov', '-', 'i3ie', ';>>', 'vente', ',', 'vendus', '93', '.', 'de', '32', '.--', 'a', '52', '.--.'], ['xumiir', '.'], ['10', 'a', '*', 'v', '.--_froment', '>>', 'las', '190', 'kit', '..', 'fr', '.'], ['15', '.', '23', ';', 'mi', \"'\", 'te', '>>,', '--;', 'epautre', '.', 'l3', '.--', ';_seigle', '.'], ['14', '.', '5', '>;', 'avoine', '.'], ['10', '.', '30', ';_orge', '.'], ['--;', 'feveroles', ',', '22', '.--;_pommes', 'do', 'terre', '.'], ['g', '.--;', 'paille', ',', 'v', '.', '--;', 'fcin', '.', '6', '.', '50', ':', 'lioumon', ',', '--.'], ['2', \"%'\", 'ivellom', '.'], ['10', 'mv', '.'], ['--_froment', ',', 'las', '109', 'kll_.,', '(', 'r', '.', '13', '.'], ['--', '\\\\', '--;', 'selgle', '.', 'ii', '.-;\\\\', '--;_avoine', ',', '16', '.', '509', '-;', 'orge', ',', '17', '30', 'j', '--,--;', 'escourgeon', '.'], ['#', 'inint', '-', 't', '>>*', 'o', '<<', 'd', ',', '10', 'nov', '.', '--_froment', 'je', 'culture', ',', 'par', '400kil', '.,', 'fr', '.'], ['10', '.--', '1', '--.--;', 'm', '.', 'commercial', ',', '16', '.'], ['--', 'a', '--.--,', 'seigle', '.'], ['13', '.', '50', 'a', '--;_avoine', '.'], ['10', '.', '50', 'a', '--.--;', 'orge', '.'], ['17', '.--', 'a', '--;', 'farine', 'ira', 'de', 'froment', ',', '0', '.--', 'a', '0', '.'], ['--;', 'son', 'gros', 'de', 'tco', '*', 'ment', ',', '15', '.--', 'a', '--.--.'], ['huiie', 'de', 'colza', ',', 'par', 'hcctoi', '.,', '--', 'a', '--;', 'u', '.', 'epures', ',', '--~', 'a', ';', 'huile', 'de', 'lin', '.'], ['--,--', 'a', '--;', 'tourteaux', 'de', 'colza', 'par', '100_kll', '.,', '--', 'a', '--;_id', '.'], ['de', 'lin', ',', '--', 'a', 'i', 'pommes', 'de', 'terre', 'blanches', ',', '6', '.', '3', '>>', 'a', '0_.--.'], ['...', ',,_,,,,', 'paille', ',', 'fi', '.', '50', 'a', '0_.--;', 'loln', \",'\", '5', '.', '5i', ')', 'a', '0_.--;', 'beurre', ',', 'le_kilo', '.'], ['2', '.', 'o', 'a', '0_.--;', 'oeufs', ',', 'les', '26', ',', '3', '.', '30', 'a', '0_.--;', 'genievre', ',', 'l', \"'\", 'uect', '.,', '--', 'a', 'esprit', ',', '0', '.--', 'a', '0_.--.'], ['tournai', ',', '10', 'nov', '.', '--_froment', 'blaze', ',', 'l', \"'\", 'iiaetoluri', ',', 'fr', '.'], ['--.--', 'a', '--;', 'froment', ',--', 'u', '--;', 'metell', ',', '--', 'a', '--;_seigle', ',--.--', 'a', '--;_avoine', ',', '--', 'a', '--;', 'feve', '-', 'roles', ',', '--.--', 'a', '--;', 'beurre', ',', 'le_kilo', ',', '2', '.', '00', 'a', '3', ',', '10', ';', 'oeufs', ',', 'les', '26', ',', '3', '.', '70', 'u3', '.', 'c0', '.'], ['wacrofiliom', ',', '10', 'nov', '.--', 'beurre', '.', 'le', '1_/', '3', 'il', '-,', '1', '.', '5qa', '1', '.', '60', ',', 'oeufs', ',', 'les', '26', ',', '3', '.', '99', 'a', '1', '.', '16', ';', 'lin', ',', 'les', '100_kilos', ',', '93', '.--', 'a', '145', '.--;', 'etoupes', ',', 'lee', '1u0', 'kii', '.,', '30', '.--', 'a', '35', '.--;_pommes', 'de', 'terre', ',', 'les', '100', '>', 'il', '.,', '3', '.--', 'a', '3', '.', '50', ';', 'jeune', 'porc', ',', 'la_piece', ',', '33', '.--', 'a', '50', '.--;', 'lapin', '.'], ['2', '.--', 'a', '3', '.', '95', ';', 'poulet', ',', '2', '.', '25', 'a', '3', '.'], ['--.'], ['vin', '-', 'e', '<<,', '10', 'nov', '.', '--_froment', ',', 'les', '10j', 'kll_.,', 'fr', '.'], ['18', '.--', 'a', '19', '.', '59', ';_seigle', ',', '16', '.-', 'a', '16', '.', '75', ';_avoine', ',', '16', '.--', 'a', '16', '.', '75', ':', 'pois', '--', 'a', '--;', 'feveroles', ',', '--.--', 'a', '--.--;', 'pommes', 'de', 'terre', ',', '8', '80', 'a', 'g', '.--*,', 'beurre', ',', 'le_kilo', ',', '2', '.', '90', 'a', '3', '.', '20', ';', 'oeufs', ',', 'le', '(', 'iuart3', '-', 'ron', '.'], ['i', '.', '16', 'a', '4', '.', '63', '.'], ['charmanne', '.'], ['consul_general', 'de', 'belgique', 'a', 'ottawa', '(', 'canada', ').', 'a', 'ele', 'nomme_consul', 'general', 'a', 'bang', 'kok', '(', 'siam', '),', 'avec', 'juridiction', 'sur', 'le', 'siam', 'et', 'les', 'slrails', 'seluements', '.'], ['--', 'm', '.', 'kelels', ',', 'consul', 'de', 'belgique', 'a', 'tien_-_tsin', '(', 'chine', '),', 'a', 'ele', 'nomme_consul', 'a', 'ottawa', '(', 'canada_),', 'avec', 'juridiction', 'sur', 'la_federation', 'canadienne', 'et', 'ja', 'colonie', 'de', 'terre', '-', 'neuve', '.'], ['decoration', 'c', \".'\", 'v', \"'\", 'gae', '.'], ['--', 'la', '.', 'decoration_civique', 'a', 'ele', 'decernee', 'aux', 'agents', 'de', 'l', \"'\", 'administration_des_postes', ';', 'designes_ci', '-', 'apres', ',', 'savoir', ':', 'la_medaille', 'de', 'ire_classe', ':', 'a', 'm', '.', 'billy', '.'], ['facteur_rural', '.'], ['la_medaille', 'de', '2e_classe', ':', 'a', 'm', '.', 'goringy', 'facteur', 'local', '.', '.', 'armee', '.'], ['--', 'le', 'sergent', ',', 'en_conge_illimite', ',', 'baudouin', '\"', 'est_nomme', 'sous', '-', 'lieutenanl', 'payeur', 'de', 'reserve', '.'], ['notariat', '.'], ['--', 'sont_acceptees', 'les', 'demissions', 'de', 'm', '.', 'myin', '.'], ['de', 'ses_fonctions', 'de', 'notaire', 'a', 'la', 'residence', 'd', \"'\", 'anvers', ';', 'do', 'm', '.', 'jadol', ',', 'id', '.'], ['de', 'marche', '.'], ['ecole_militaire', '.'], ['--', 'sont_admis', 'a', 'l', \"'\", 'ecole_militaire', ',', 'en_qualite', 'd', \"'\", 'eleves', 'de', 'la', '57e', 'promotion', 'de', 'l', \"'\", 'infanterie', 'et', 'ao', 'la', '<', \"'\", '*', \"'\", '*', '-', '\"', 'i', 'cavalerie', ',', 'les', 'jeunes_gens', 'dont_les_noms', 'suivent', ':', 'hanon', 'de', 'louvet', ',', 'van', 'sprang', ',', 'deyloo', ',', 'petit', ',', 'champagne', '.'], ['masui', ',', 'gerard', ',', 'vanneste', ',', 'lallemand', ',', 'van', 'iioeeke', \".'\", 'rigano', '.'], ['ilendrickx', ',', 'von', 'glaboke', ',', 'sou', '-', \"'\", 'moy', '.', 'couturieaux', ',', 'lucion', ',', 'mersch', ',', 'iledo', ',', 'iloudmont', ',', 'de', 'heusch', '.'], ['terfve', '.'], ['labio', ',', 'brabant', ',', 'franckx', ',', 'foulon', ',', 'fiahiiifirh', '.'], ['simmi', '\"', 'tfannatvnin', 'fivnv', '^', 'f', 'h', '-.', 'ilu', '/', 'phnin', '.'], ['u', 'gernaert', ',', 'simon', \",'\", 'henncquin', ',', 'fcro', \"'\", 't', ',', 'g', '->', 'ile', ',', 'i', \"'\", 'orjo', 'e', \"'\", 'y', 'hannus', '.', 'noel', ',', 'flanieng', ',', 'bri', '-', 'matchovelette', ',', 'gondry', ',', 'doux', ',', 'vermeuleu', ',', 'giilo', 'gillot', ',', 'boufvin', '.'], ['borremans', '.'], ['academie_royale', 'flamande', 'de', 'langue', 'et', 'de', 'litterature', '.'], ['--', 'l', \"'\", 'election', 'faite_par', 'l', \"'\", 'academie', 'flamande', ',', 'dans', 'sa_seance', 'du', '17_octobre', '1906', ',', 'de', 'm', '.', 'le_docteur', 'hugo', 'verriest', ',', 'a', 'ingoyghem', ',', 'en_qualite', 'de', 'membre_effectif', ',', 'en', '-', 'remplacement', 'de', 'feu', 'm', '.', 'janssens', ',', 'est_approuvee', '.'], ['sapeurs_-', 'pompiers_communaux', 'armes', '.'], ['--', 'm', '.', 'pa', '*', 'njels', ',', 'sous', '-', 'fieu', 'tenant', 'au', 'corps', 'arme', 'de', 'sapeurs_-', 'pom', '-', 'iers', 'communaux', 'de', 'schaerheek', ',', 'est_nomme', 'lieule', '-', 'p', 'u', 'teuant', ',-', 'en_remplacement', 'de', 'm', '.', 'verteneuil', ',', 'decede', '.'], ['enseignement_moyen', '.'], ['--', 'mme', 'schaefer', '-', 'misonne', ',.'], ['.', 'directrice', 'a', 'titre_provisoire', 'de', 'l', \"'\", 'ecole_moyenne', 'de', 'l', \"'\", 'elat', 'pour', 'alles', ',', 'a', 'jumet', ',', 'est', 'dechargee', 'des', 'fonciions', 'de', 'regente', 'd', \"'\", 'economie', 'domes', '!'], ['ique', 'a', 'l', \"'\", 'ecole', '\"', 'moyen', 'ne', 'del', \"'\", 'ktai', 'pour', 'ailes', ',', 'a_la_louviere', '.'], ['--', 'm', '.', 'barzin', 'est', 'decharge', ',', 'sur', 'sa', 'demande', ',', 'des', 'fonctions', 'de', 'regent', 'a', 'l', \"'\", 'ecole_moyenne', 'de', 'l', \"'\", 'etal', 'pour', \"'\", 'garcons', ',', 'a', 'spa', ',', 'avec', 'autorisation', 'd', \"'\", 'en', 'conserver', 'le', 'r', 'titre_honorifique', ':', 'il', 'est_admis', 'a', 'faire_valoir_ses_droits', ';', 'a', 'ja', 'pension', '.'], [';', \"'\", '-', 'r', '-', 'm', '.', 'drainer', ',', 'directeur', 'a', 'titre_provisoire', 'de', 'l', \"'\", 'ecole', 'moyenue', 'de', 'l', \"'\", 'etat', 'pour', '.', 'garcons', '^', 'a', 'wavre', ',', 'est', 'decharge', ',', 'sur', 'sa', 'demande', ',', 'des', 'fonctions', 'de', 'professeur', 'de', 'gymnastique', ',', 'en', ',', 'partage', ',', 'a', 'l', \"'\", 'ecole_moyenne', 'do', 'l', \"'\", 'etat', 'pour', 'garcons', ',', 'a', 'roeulx', '.'], ['*', 'contributions_directes', ',', 'douanes', 'et_accises', '.'], ['--', 'm', '.'], ['du', '-', '#', 'val', ',', 'receveur_des_contributions_directes', 'et', 'des_accises', 'a', 'deynze', '.', 'est_admis', ',', 'sur', 'sa', 'demande', ',', 'a', 'faire_valoir_ses_droits', 'a', 'la', 'pension', 'de', 'retraite', '.'], ['coinmission', 'tnedicale', 'provinciale', '.'], ['--', 'sont_nommes', 'membres', 'correspondants', 'de', 'la_commission', 'medicale', 'piminciale', 'de', 'namur', ';', 'mm', '.'], ['les', 'doctonrs', 'rolin', ',', 'u', \"'\", 'e', 'fosses', ';', 'lebrun', ',', 'de', 'ligny', ';', 'giliard', ',', 'do', 'ctiampion', ',', 'et', '.'], ['defasse', ',', 'de', 'spj', '\\\\', 'en_remplacement', 'de', 'mm', ',', 'les_docteurs', '.'], ['wery', ',', 'de', 'fosses', ',', 'et', 'fermine', ',', 'do', 'lignv', ',', 'demis', '-', ';', 'sionnairos', ',', 'et', 'de', 'mm', '.'], ['jes', 'docteurs', 'renard', ',', \"'\", 'de', 'champion', 'et', 'dehaybe', ',', 'de', 'spy', ',', 'decedes', '.'], ['arts', ',', 'sciences', 'et', 'lettres', 'declamation', '.', 'et', 'diction', '.'], ['*', '--', 'on', 'nous', 'demande', 'de', 'divers_cotes', 'des', 'renseignements_sur', 'le', 'cours', 'que', 'va_donner', 'm', '.', 'hittemans', '.'], ['nous', 'no', 'croyons_pouvoir', 'mieux', 'faire', 'que', 'd', \"'\", 'engager', 'les_interesses', 'a', 's', \"'\", 'adresser', 'a', 'l', \"'\", 'artiste', ',', 'rue', 'verhulst', ',', '6', ',', 'a', 'uccle', '.'], ['universite_libre', ',', 'rue_des_sols', '.'], ['--', 'demain_lundi', ',', 'a', 'r', 'meures', 'du_soir', ',', 'conference', 'par', 'm', '.', 'lameere', ':', '<<', 'la_fondation', '>>.'], ['universite_populaire', 'd', \"'\", 'euerbeek', '.'], ['--', 'lundi', '12', ',', 'a', '3', 'h', '.', '1_/_2', ',', 'au_local', ',', '4', ',', 'rue', 'do', 'l', \"'\", 'etang', ',', 'inauguration', 'solennelle', '.'], ['discours', 'de', 'm', '.', 'e', '.', 'richard', '.'], ['conference', 'de', 'xi', '.', 'ch', '.', 'buls', '.', 'sujet', ':', '<<-', 'la', 'corse', '>>.'], ['projections_lumineuses', '*', 'universite_populaire', 'de', 'saint_-_josse', ',', '67', ',', 'rue', 'de', 'la_limite', '.'], ['demain_lundi', ',', 'a', '8_h', '.', '1_/', '4', ',', 'eauserio', 'litteraire', ':', '<<', 'maxim', 'gorki', '<<.', 'lectures', '.'], ['vamicale', 'de', 'vecole', 'n_deg', '7', '.'], ['--', 'demain_lundi', ',', 'a', '8_h', '.', 'du_soir', ',', 'dans', 'le', 'preau', 'de', 'l', \"'\", 'ecole', 'n_deg', '7', ',', 'rue_haute', '225', \"'\", 'conference', 'par', 'madame', 'journaux', ':', '<<', 'de', 'la', 'grande', '-', 'chartreuse', 'a', 'ja', 'cote', 'd', \"'\", 'azur', '>>.', 'projections_lumineuses', '.'], ['foyer', 'intellectuel', ',', 's0', ',', 'rue', 'du', 'fort', '.'], ['--', 'demain_lundi', ',', 'a', '8b', ',,', 'm', '.', 'j', '.', 'vincent', ':', '<<', 'la_meteorologie', ':', 'le', 'barometre', '>>.']]\n"
     ]
    }
   ],
   "source": [
    "print(corpus[:100])"
   ]
  },
  {
   "cell_type": "markdown",
   "metadata": {},
   "source": [
    "## Entrainement d'un modèle Word2Vec sur ce corpus"
   ]
  },
  {
   "cell_type": "code",
   "execution_count": 16,
   "metadata": {},
   "outputs": [
    {
     "name": "stdout",
     "output_type": "stream",
     "text": [
      "CPU times: total: 9.48 s\n",
      "Wall time: 29.2 s\n"
     ]
    }
   ],
   "source": [
    "%%time\n",
    "model = Word2Vec(\n",
    "    corpus, # On passe le corpus de ngrams que nous venons de créer\n",
    "    vector_size=32, # Le nombre de dimensions dans lesquelles le contexte des mots devra être réduit, aka. vector_size\n",
    "    window=5, # La taille du \"contexte\", ici 5 mots avant et après le mot observé\n",
    "    min_count=5, # On ignore les mots qui n'apparaissent pas au moins 5 fois dans le corpus\n",
    "    workers=4, # Permet de paralléliser l'entraînement du modèle en 4 threads\n",
    "    epochs=5 # Nombre d'itérations du réseau de neurones sur le jeu de données pour ajuster les paramètres avec la descente de gradient, aka. epochs.\n",
    ")"
   ]
  },
  {
   "cell_type": "markdown",
   "metadata": {},
   "source": [
    "#### Remarque\n",
    "\n",
    "Vous voyez ici que l'entrainement du modèle est parallélisé (sur 4 workers).\n",
    "\n",
    "Lors qu'on parallélise l'entrainement du modèle, 4 modèles \"séparés\" sont entrainés sur environ un quart des phrases.\n",
    "\n",
    "Ensuite, les résultats sont agrégés pour ne plus faire qu'un seul modèle.\n",
    "\n",
    "On ne peut prédire quel worker aura quelle phrase, car il y a des aléas lors de la parallélisation (p. ex. un worker qui serait plus lent, etc.).\n",
    "\n",
    "Du coup, les valeurs peuvent varier légèrement d'un entrainement à l'autre.\n",
    "\n",
    "Mais, globalement, les résultats restent cohérents."
   ]
  },
  {
   "cell_type": "markdown",
   "metadata": {},
   "source": [
    "### Sauver le modèle dans un fichier"
   ]
  },
  {
   "cell_type": "code",
   "execution_count": 17,
   "metadata": {},
   "outputs": [],
   "source": [
    "outfile = f\"../data/newspapers.model\"\n",
    "model.save(outfile)"
   ]
  },
  {
   "cell_type": "markdown",
   "metadata": {},
   "source": [
    "## Explorer le modèle"
   ]
  },
  {
   "cell_type": "markdown",
   "metadata": {},
   "source": [
    "### Charger le modèle en mémoire"
   ]
  },
  {
   "cell_type": "code",
   "execution_count": 18,
   "metadata": {},
   "outputs": [],
   "source": [
    "model = Word2Vec.load(\"../data/newspapers.model\")"
   ]
  },
  {
   "cell_type": "markdown",
   "metadata": {},
   "source": [
    "### Imprimer le vecteur d'un terme"
   ]
  },
  {
   "cell_type": "code",
   "execution_count": 19,
   "metadata": {},
   "outputs": [
    {
     "data": {
      "text/plain": [
       "array([ 1.1970322 , -0.07318376,  0.6614855 ,  0.50884306,  0.9949899 ,\n",
       "        1.1116452 ,  1.1065866 , -1.0641718 , -1.1435872 ,  0.35503915,\n",
       "       -0.08110788,  4.413815  ,  2.025264  , -0.8961699 , -2.1539612 ,\n",
       "       -2.8553195 , -0.5082356 , -1.6796227 , -5.000319  ,  2.0318856 ,\n",
       "        3.0283687 ,  2.21347   ,  0.97804   , -2.4381998 , -4.860589  ,\n",
       "        1.9145362 ,  0.98774076, -0.4126336 , -2.4837644 ,  0.21860567,\n",
       "        0.01903898, -0.19279872], dtype=float32)"
      ]
     },
     "execution_count": 19,
     "metadata": {},
     "output_type": "execute_result"
    }
   ],
   "source": [
    "model.wv[\"ministre\"]"
   ]
  },
  {
   "cell_type": "markdown",
   "metadata": {},
   "source": [
    "### Calculer la similarité entre deux termes"
   ]
  },
  {
   "cell_type": "code",
   "execution_count": 20,
   "metadata": {},
   "outputs": [
    {
     "data": {
      "text/plain": [
       "0.5841106"
      ]
     },
     "execution_count": 20,
     "metadata": {},
     "output_type": "execute_result"
    }
   ],
   "source": [
    "model.wv.similarity(\"ministre\", \"roi\")"
   ]
  },
  {
   "cell_type": "markdown",
   "metadata": {},
   "source": [
    "### Chercher les mots les plus proches d'un terme donné"
   ]
  },
  {
   "cell_type": "code",
   "execution_count": 21,
   "metadata": {},
   "outputs": [
    {
     "data": {
      "text/plain": [
       "[('secretaire', 0.9039165377616882),\n",
       " ('membre', 0.8936543464660645),\n",
       " ('president', 0.8816959261894226),\n",
       " ('inspecteur', 0.8704195618629456),\n",
       " ('adjoint', 0.8627258539199829),\n",
       " ('conseiller', 0.8571282029151917),\n",
       " ('depute', 0.8563404083251953),\n",
       " ('professeur', 0.8490974307060242),\n",
       " ('vice_-_president', 0.8458018898963928),\n",
       " ('directeur', 0.8434743881225586)]"
      ]
     },
     "execution_count": 21,
     "metadata": {},
     "output_type": "execute_result"
    }
   ],
   "source": [
    "model.wv.most_similar(\"ministre\", topn=10)"
   ]
  },
  {
   "cell_type": "markdown",
   "metadata": {},
   "source": [
    "### Faire des recherches complexes à travers l'espace vectoriel"
   ]
  },
  {
   "cell_type": "code",
   "execution_count": 27,
   "metadata": {},
   "outputs": [
    {
     "name": "stdout",
     "output_type": "stream",
     "text": [
      "[('londres', 0.7874029874801636), ('ostende', 0.7817729115486145), ('amsterdam', 0.781009316444397), ('new_-_york', 0.7674489617347717), ('liege', 0.7646644115447998), ('geneve', 0.7633039951324463), ('hambourg', 0.7402405738830566), ('grand_festival', 0.7396638989448547), ('1893', 0.7329071164131165), ('madrid', 0.7319207787513733)]\n"
     ]
    }
   ],
   "source": [
    "print(model.wv.most_similar(positive=['paris','belgique'], negative=['france']))"
   ]
  }
 ],
 "metadata": {
  "kernelspec": {
   "display_name": "Python 3.10.5 ('tac_venv': venv)",
   "language": "python",
   "name": "python3"
  },
  "language_info": {
   "codemirror_mode": {
    "name": "ipython",
    "version": 3
   },
   "file_extension": ".py",
   "mimetype": "text/x-python",
   "name": "python",
   "nbconvert_exporter": "python",
   "pygments_lexer": "ipython3",
   "version": "3.11.9"
  },
  "vscode": {
   "interpreter": {
    "hash": "b1932ab1d169b4769d1550e799423b6477588e745f266d79d9004c136c81607e"
   }
  }
 },
 "nbformat": 4,
 "nbformat_minor": 4
}
